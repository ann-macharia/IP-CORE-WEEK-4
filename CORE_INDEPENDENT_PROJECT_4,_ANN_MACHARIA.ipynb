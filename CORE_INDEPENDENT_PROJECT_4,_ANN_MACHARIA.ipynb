{
  "nbformat": 4,
  "nbformat_minor": 0,
  "metadata": {
    "colab": {
      "name": "CORE INDEPENDENT PROJECT 4, ANN MACHARIA",
      "provenance": [],
      "collapsed_sections": [],
      "toc_visible": true,
      "include_colab_link": true
    },
    "kernelspec": {
      "name": "python3",
      "display_name": "Python 3"
    }
  },
  "cells": [
    {
      "cell_type": "markdown",
      "metadata": {
        "id": "view-in-github",
        "colab_type": "text"
      },
      "source": [
        "<a href=\"https://colab.research.google.com/github/ann-macharia/IP-CORE-WEEK-4/blob/master/CORE_INDEPENDENT_PROJECT_4%2C_ANN_MACHARIA.ipynb\" target=\"_parent\"><img src=\"https://colab.research.google.com/assets/colab-badge.svg\" alt=\"Open In Colab\"/></a>"
      ]
    },
    {
      "cell_type": "markdown",
      "metadata": {
        "id": "VGIb0sgCWHBA",
        "colab_type": "text"
      },
      "source": [
        "DEFINING THE QUESTION"
      ]
    },
    {
      "cell_type": "markdown",
      "metadata": {
        "id": "rh14ID0yWUYA",
        "colab_type": "text"
      },
      "source": [
        "# DEFINING THE QUESTION\n"
      ]
    },
    {
      "cell_type": "markdown",
      "metadata": {
        "id": "3DfrPhiEFIUg",
        "colab_type": "text"
      },
      "source": [
        "a) **Specifying data analytic question**"
      ]
    },
    {
      "cell_type": "markdown",
      "metadata": {
        "id": "8qflxY1xFToM",
        "colab_type": "text"
      },
      "source": [
        "Is it true to say that The average blue car activity per station in paris is greater in the morning hours than in the afternoon hours?"
      ]
    },
    {
      "cell_type": "markdown",
      "metadata": {
        "id": "iBhKXO9EGEGF",
        "colab_type": "text"
      },
      "source": [
        "b)  **Defining the Metric for Success**"
      ]
    },
    {
      "cell_type": "markdown",
      "metadata": {
        "id": "ZsiWypEjGVTP",
        "colab_type": "text"
      },
      "source": [
        "Hypothesis testing will be carried out. The significance level will be compared to the P-Value,and from this we will be able to make our conclusion.\n",
        "P-Value < Significance level, null hypothesis willbe rejected"
      ]
    },
    {
      "cell_type": "markdown",
      "metadata": {
        "id": "eLCXYBnMGhNK",
        "colab_type": "text"
      },
      "source": [
        "c)  **Understanding the context**"
      ]
    },
    {
      "cell_type": "markdown",
      "metadata": {
        "id": "uOrw5AviG9co",
        "colab_type": "text"
      },
      "source": [
        "Usage of electric cars has seen growth with the advancement of technology. Unlike the fuel cars,electric cars are more environmentally friendly and thus sustainable. An increase in electric car usage will mean a well kept environment.\n",
        "\n",
        "Autolib is an electric car sharing company. the company has 3 main types of electric cars: blue cars, utilib counter and the utilib 4 counter. these cars operate in the city of france.\n",
        "\n",
        "There has been several discussions on when there is highest activity of the blue car, whether it is in the morning hours or the afternoon hours. The company has tasked me to do an investigation toclearly know at what times usage is greater. This will mostly help in planning the marketing strategies and segmentation"
      ]
    },
    {
      "cell_type": "markdown",
      "metadata": {
        "id": "jqGloskQLVao",
        "colab_type": "text"
      },
      "source": [
        "d)  **Recording the Experimental Design**"
      ]
    },
    {
      "cell_type": "markdown",
      "metadata": {
        "id": "I5oU9cEYLpzn",
        "colab_type": "text"
      },
      "source": [
        "The main objective of the ressearch is to determine whether the average blue car activity per station in paris is greater in the morning hours than in the afternoon hours. \n",
        "I will use a data set from the Autolib company to do my analysis. Data will be cleaned and quality assurance done.\n",
        "i will then proceed to analysis(Univariate, Bivariate and Multivariate) so as to get a deeper understanding of the data.\n",
        "A sample from the data will be used to carry out hypothesis testing and thus answer the business question, make conclusions and recommendations."
      ]
    },
    {
      "cell_type": "markdown",
      "metadata": {
        "id": "km8_2n4COzgI",
        "colab_type": "text"
      },
      "source": [
        "d) **Data relevance**"
      ]
    },
    {
      "cell_type": "markdown",
      "metadata": {
        "id": "Kg6oWn_kRC6Q",
        "colab_type": "text"
      },
      "source": [
        "The autolib data set is from the previous business year 2018. This was in the latest annual report prepare by the Autolib company. It will be used to answer the business as it is well detailed and contains all important information including: car type, city, postal adress time, electric car stations details e.t.c\n"
      ]
    },
    {
      "cell_type": "markdown",
      "metadata": {
        "id": "wGMZ1tF8WvxJ",
        "colab_type": "text"
      },
      "source": [
        "# READING THE DATA"
      ]
    },
    {
      "cell_type": "code",
      "metadata": {
        "id": "Q6XT3TUgc7Af",
        "colab_type": "code",
        "colab": {}
      },
      "source": [
        "#loading libraries\n",
        "import pandas as pd\n",
        "from datetime import datetime\n",
        "    "
      ],
      "execution_count": 0,
      "outputs": []
    },
    {
      "cell_type": "code",
      "metadata": {
        "id": "hr5kbIyHceEh",
        "colab_type": "code",
        "outputId": "f3127933-6961-411d-8e27-437bac425a66",
        "colab": {
          "base_uri": "https://localhost:8080/",
          "height": 443
        }
      },
      "source": [
        "#loading the data set\n",
        "A='/content/Autolib_dataset.csv'\n",
        "df=pd.read_csv(A)\n",
        "df.head()"
      ],
      "execution_count": 0,
      "outputs": [
        {
          "output_type": "execute_result",
          "data": {
            "text/html": [
              "<div>\n",
              "<style scoped>\n",
              "    .dataframe tbody tr th:only-of-type {\n",
              "        vertical-align: middle;\n",
              "    }\n",
              "\n",
              "    .dataframe tbody tr th {\n",
              "        vertical-align: top;\n",
              "    }\n",
              "\n",
              "    .dataframe thead th {\n",
              "        text-align: right;\n",
              "    }\n",
              "</style>\n",
              "<table border=\"1\" class=\"dataframe\">\n",
              "  <thead>\n",
              "    <tr style=\"text-align: right;\">\n",
              "      <th></th>\n",
              "      <th>Address</th>\n",
              "      <th>Cars</th>\n",
              "      <th>Bluecar counter</th>\n",
              "      <th>Utilib counter</th>\n",
              "      <th>Utilib 1.4 counter</th>\n",
              "      <th>Charge Slots</th>\n",
              "      <th>Charging Status</th>\n",
              "      <th>City</th>\n",
              "      <th>Displayed comment</th>\n",
              "      <th>ID</th>\n",
              "      <th>Kind</th>\n",
              "      <th>Geo point</th>\n",
              "      <th>Postal code</th>\n",
              "      <th>Public name</th>\n",
              "      <th>Rental status</th>\n",
              "      <th>Scheduled at</th>\n",
              "      <th>Slots</th>\n",
              "      <th>Station type</th>\n",
              "      <th>Status</th>\n",
              "      <th>Subscription status</th>\n",
              "      <th>year</th>\n",
              "      <th>month</th>\n",
              "      <th>day</th>\n",
              "      <th>hour</th>\n",
              "      <th>minute</th>\n",
              "    </tr>\n",
              "  </thead>\n",
              "  <tbody>\n",
              "    <tr>\n",
              "      <th>0</th>\n",
              "      <td>2 Avenue de Suffren</td>\n",
              "      <td>0</td>\n",
              "      <td>0</td>\n",
              "      <td>0</td>\n",
              "      <td>0</td>\n",
              "      <td>0</td>\n",
              "      <td>nonexistent</td>\n",
              "      <td>Paris</td>\n",
              "      <td>NaN</td>\n",
              "      <td>paris-suffren-2</td>\n",
              "      <td>STATION</td>\n",
              "      <td>48.857, 2.2917</td>\n",
              "      <td>75015</td>\n",
              "      <td>Paris/Suffren/2</td>\n",
              "      <td>operational</td>\n",
              "      <td>NaN</td>\n",
              "      <td>2</td>\n",
              "      <td>station</td>\n",
              "      <td>ok</td>\n",
              "      <td>nonexistent</td>\n",
              "      <td>2018</td>\n",
              "      <td>4</td>\n",
              "      <td>8</td>\n",
              "      <td>11</td>\n",
              "      <td>43</td>\n",
              "    </tr>\n",
              "    <tr>\n",
              "      <th>1</th>\n",
              "      <td>145 Rue Raymond Losserand</td>\n",
              "      <td>6</td>\n",
              "      <td>6</td>\n",
              "      <td>0</td>\n",
              "      <td>0</td>\n",
              "      <td>0</td>\n",
              "      <td>operational</td>\n",
              "      <td>Paris</td>\n",
              "      <td>NaN</td>\n",
              "      <td>paris-raymondlosserand-145</td>\n",
              "      <td>STATION</td>\n",
              "      <td>48.83126, 2.313088</td>\n",
              "      <td>75014</td>\n",
              "      <td>Paris/Raymond Losserand/145</td>\n",
              "      <td>operational</td>\n",
              "      <td>NaN</td>\n",
              "      <td>0</td>\n",
              "      <td>station</td>\n",
              "      <td>ok</td>\n",
              "      <td>nonexistent</td>\n",
              "      <td>2018</td>\n",
              "      <td>4</td>\n",
              "      <td>6</td>\n",
              "      <td>7</td>\n",
              "      <td>24</td>\n",
              "    </tr>\n",
              "    <tr>\n",
              "      <th>2</th>\n",
              "      <td>2 Avenue John Fitzgerald Kennedy</td>\n",
              "      <td>3</td>\n",
              "      <td>3</td>\n",
              "      <td>0</td>\n",
              "      <td>2</td>\n",
              "      <td>0</td>\n",
              "      <td>operational</td>\n",
              "      <td>Le Bourget</td>\n",
              "      <td>NaN</td>\n",
              "      <td>lebourget-johnfitzgeraldkennedy-2</td>\n",
              "      <td>STATION</td>\n",
              "      <td>48.938103, 2.4286035</td>\n",
              "      <td>93350</td>\n",
              "      <td>Le Bourget/John Fitzgerald Kennedy/2</td>\n",
              "      <td>operational</td>\n",
              "      <td>NaN</td>\n",
              "      <td>1</td>\n",
              "      <td>station</td>\n",
              "      <td>ok</td>\n",
              "      <td>nonexistent</td>\n",
              "      <td>2018</td>\n",
              "      <td>4</td>\n",
              "      <td>3</td>\n",
              "      <td>20</td>\n",
              "      <td>14</td>\n",
              "    </tr>\n",
              "    <tr>\n",
              "      <th>3</th>\n",
              "      <td>51 Rue EugÃ¨ne OudinÃ©</td>\n",
              "      <td>3</td>\n",
              "      <td>3</td>\n",
              "      <td>1</td>\n",
              "      <td>0</td>\n",
              "      <td>1</td>\n",
              "      <td>operational</td>\n",
              "      <td>Paris</td>\n",
              "      <td>NaN</td>\n",
              "      <td>paris-eugeneoudine-51</td>\n",
              "      <td>STATION</td>\n",
              "      <td>48.8250327, 2.3725162</td>\n",
              "      <td>75013</td>\n",
              "      <td>Paris/EugÃ¨ne OudinÃ©/51</td>\n",
              "      <td>operational</td>\n",
              "      <td>NaN</td>\n",
              "      <td>2</td>\n",
              "      <td>station</td>\n",
              "      <td>ok</td>\n",
              "      <td>nonexistent</td>\n",
              "      <td>2018</td>\n",
              "      <td>4</td>\n",
              "      <td>4</td>\n",
              "      <td>4</td>\n",
              "      <td>37</td>\n",
              "    </tr>\n",
              "    <tr>\n",
              "      <th>4</th>\n",
              "      <td>6 avenue de la Porte de Champerret</td>\n",
              "      <td>3</td>\n",
              "      <td>3</td>\n",
              "      <td>0</td>\n",
              "      <td>0</td>\n",
              "      <td>0</td>\n",
              "      <td>nonexistent</td>\n",
              "      <td>Paris</td>\n",
              "      <td>NaN</td>\n",
              "      <td>paris-portedechamperret-6</td>\n",
              "      <td>PARKING</td>\n",
              "      <td>48.8862632, 2.2874511</td>\n",
              "      <td>75017</td>\n",
              "      <td>Paris/Porte de Champerret/6</td>\n",
              "      <td>operational</td>\n",
              "      <td>NaN</td>\n",
              "      <td>3</td>\n",
              "      <td>station</td>\n",
              "      <td>ok</td>\n",
              "      <td>nonexistent</td>\n",
              "      <td>2018</td>\n",
              "      <td>4</td>\n",
              "      <td>8</td>\n",
              "      <td>17</td>\n",
              "      <td>23</td>\n",
              "    </tr>\n",
              "  </tbody>\n",
              "</table>\n",
              "</div>"
            ],
            "text/plain": [
              "                              Address  Cars  Bluecar counter  ...  day  hour  minute\n",
              "0                 2 Avenue de Suffren     0                0  ...    8    11      43\n",
              "1           145 Rue Raymond Losserand     6                6  ...    6     7      24\n",
              "2    2 Avenue John Fitzgerald Kennedy     3                3  ...    3    20      14\n",
              "3              51 Rue EugÃ¨ne OudinÃ©     3                3  ...    4     4      37\n",
              "4  6 avenue de la Porte de Champerret     3                3  ...    8    17      23\n",
              "\n",
              "[5 rows x 25 columns]"
            ]
          },
          "metadata": {
            "tags": []
          },
          "execution_count": 2
        }
      ]
    },
    {
      "cell_type": "code",
      "metadata": {
        "id": "XQwjgJwjcw1Z",
        "colab_type": "code",
        "outputId": "ef283340-b9d5-4bfe-9eba-d559b5f4478a",
        "colab": {
          "base_uri": "https://localhost:8080/",
          "height": 581
        }
      },
      "source": [
        "#ACESSSING INFORMATION ABOUT OUR DATASET\n",
        "print(df.shape)\n",
        "df.info()"
      ],
      "execution_count": 0,
      "outputs": [
        {
          "output_type": "stream",
          "text": [
            "(5000, 25)\n",
            "<class 'pandas.core.frame.DataFrame'>\n",
            "RangeIndex: 5000 entries, 0 to 4999\n",
            "Data columns (total 25 columns):\n",
            "Address                5000 non-null object\n",
            "Cars                   5000 non-null int64\n",
            "Bluecar counter        5000 non-null int64\n",
            "Utilib counter         5000 non-null int64\n",
            "Utilib 1.4 counter     5000 non-null int64\n",
            "Charge Slots           5000 non-null int64\n",
            "Charging Status        5000 non-null object\n",
            "City                   5000 non-null object\n",
            "Displayed comment      111 non-null object\n",
            "ID                     5000 non-null object\n",
            "Kind                   5000 non-null object\n",
            "Geo point              5000 non-null object\n",
            "Postal code            5000 non-null int64\n",
            "Public name            5000 non-null object\n",
            "Rental status          5000 non-null object\n",
            "Scheduled at           47 non-null object\n",
            "Slots                  5000 non-null int64\n",
            "Station type           5000 non-null object\n",
            "Status                 5000 non-null object\n",
            "Subscription status    5000 non-null object\n",
            "year                   5000 non-null int64\n",
            "month                  5000 non-null int64\n",
            "day                    5000 non-null int64\n",
            "hour                   5000 non-null int64\n",
            "minute                 5000 non-null int64\n",
            "dtypes: int64(12), object(13)\n",
            "memory usage: 976.7+ KB\n"
          ],
          "name": "stdout"
        }
      ]
    },
    {
      "cell_type": "code",
      "metadata": {
        "id": "P1dFMN-_kMGz",
        "colab_type": "code",
        "colab": {}
      },
      "source": [
        "#removing irrelevant columns\n",
        "df1=df.drop(['Displayed comment','Scheduled at'], axis=1)"
      ],
      "execution_count": 0,
      "outputs": []
    },
    {
      "cell_type": "code",
      "metadata": {
        "id": "bLwqAh7_dCJC",
        "colab_type": "code",
        "outputId": "3759fe0b-4569-4522-9ffc-7ff37a808f53",
        "colab": {
          "base_uri": "https://localhost:8080/",
          "height": 526
        }
      },
      "source": [
        "#REMOVING OUTLIERS\n",
        "Q3=df1.quantile(0.75)\n",
        "Q1=df1.quantile(0.25)\n",
        "IQR = Q3 - Q1\n",
        "print(IQR)\n",
        "print((df1  < (Q1 - 1.5 * IQR)) |(df1 > (Q3 + 1.5 * IQR)))\n",
        "dff= df1[~((df1 < (Q1 - 1.5 * IQR)) |(df1 > (Q3 + 1.5 * IQR))).any(axis=1)]\n",
        "dff.shape\n"
      ],
      "execution_count": 0,
      "outputs": [
        {
          "output_type": "stream",
          "text": [
            "Cars                      4.0\n",
            "Bluecar counter           4.0\n",
            "Utilib counter            0.0\n",
            "Utilib 1.4 counter        0.0\n",
            "Charge Slots              0.0\n",
            "Postal code           17308.0\n",
            "Slots                     3.0\n",
            "year                      0.0\n",
            "month                     0.0\n",
            "day                       4.0\n",
            "hour                     12.0\n",
            "minute                   30.0\n",
            "dtype: float64\n",
            "      Address  Bluecar counter   Cars  ...  minute  month   year\n",
            "0       False            False  False  ...   False  False  False\n",
            "1       False            False  False  ...   False  False  False\n",
            "2       False            False  False  ...   False  False  False\n",
            "3       False            False  False  ...   False  False  False\n",
            "4       False            False  False  ...   False  False  False\n",
            "...       ...              ...    ...  ...     ...    ...    ...\n",
            "4995    False            False  False  ...   False  False  False\n",
            "4996    False            False  False  ...   False  False  False\n",
            "4997    False            False  False  ...   False  False  False\n",
            "4998    False            False  False  ...   False  False  False\n",
            "4999    False            False  False  ...   False  False  False\n",
            "\n",
            "[5000 rows x 23 columns]\n"
          ],
          "name": "stdout"
        },
        {
          "output_type": "execute_result",
          "data": {
            "text/plain": [
              "(3317, 23)"
            ]
          },
          "metadata": {
            "tags": []
          },
          "execution_count": 5
        }
      ]
    },
    {
      "cell_type": "code",
      "metadata": {
        "id": "xqjEWpNWl9do",
        "colab_type": "code",
        "outputId": "a99e6a56-1eb4-45f6-dfc0-fb983f4be600",
        "colab": {
          "base_uri": "https://localhost:8080/",
          "height": 454
        }
      },
      "source": [
        "#checking for missing values\n",
        "dff.isnull().sum()\n",
        "# no missing values."
      ],
      "execution_count": 0,
      "outputs": [
        {
          "output_type": "execute_result",
          "data": {
            "text/plain": [
              "Address                0\n",
              "Cars                   0\n",
              "Bluecar counter        0\n",
              "Utilib counter         0\n",
              "Utilib 1.4 counter     0\n",
              "Charge Slots           0\n",
              "Charging Status        0\n",
              "City                   0\n",
              "ID                     0\n",
              "Kind                   0\n",
              "Geo point              0\n",
              "Postal code            0\n",
              "Public name            0\n",
              "Rental status          0\n",
              "Slots                  0\n",
              "Station type           0\n",
              "Status                 0\n",
              "Subscription status    0\n",
              "year                   0\n",
              "month                  0\n",
              "day                    0\n",
              "hour                   0\n",
              "minute                 0\n",
              "dtype: int64"
            ]
          },
          "metadata": {
            "tags": []
          },
          "execution_count": 6
        }
      ]
    },
    {
      "cell_type": "code",
      "metadata": {
        "id": "ELdCMDijdSe0",
        "colab_type": "code",
        "outputId": "e5863a63-5347-4a63-ca43-9f91fb6e43af",
        "colab": {
          "base_uri": "https://localhost:8080/",
          "height": 861
        }
      },
      "source": [
        "#MERGING DATES AND TIME\n",
        "dff['Date'] = dff[\"year\"].map(str) +'-'+ dff[\"month\"].map(str) +'-'+ dff[\"day\"].map(str)\n",
        "dff.head()\n",
        "dff['Time']=dff[\"hour\"].map(str) +'-'+ dff[\"minute\"].map(str)\n",
        "dff.head()\n",
        "dff['Date-Time']= dff[\"Date\"].map(str) +'-'+ dff[\"Time\"].map(str)\n",
        "dff.head()\n",
        "dff.drop(['year','month','hour','day','minute','Date','Time'],axis=1,inplace=True)\n",
        "dff.head()\n"
      ],
      "execution_count": 0,
      "outputs": [
        {
          "output_type": "stream",
          "text": [
            "/usr/local/lib/python3.6/dist-packages/ipykernel_launcher.py:1: SettingWithCopyWarning: \n",
            "A value is trying to be set on a copy of a slice from a DataFrame.\n",
            "Try using .loc[row_indexer,col_indexer] = value instead\n",
            "\n",
            "See the caveats in the documentation: http://pandas.pydata.org/pandas-docs/stable/user_guide/indexing.html#returning-a-view-versus-a-copy\n",
            "  \"\"\"Entry point for launching an IPython kernel.\n",
            "/usr/local/lib/python3.6/dist-packages/ipykernel_launcher.py:3: SettingWithCopyWarning: \n",
            "A value is trying to be set on a copy of a slice from a DataFrame.\n",
            "Try using .loc[row_indexer,col_indexer] = value instead\n",
            "\n",
            "See the caveats in the documentation: http://pandas.pydata.org/pandas-docs/stable/user_guide/indexing.html#returning-a-view-versus-a-copy\n",
            "  This is separate from the ipykernel package so we can avoid doing imports until\n",
            "/usr/local/lib/python3.6/dist-packages/ipykernel_launcher.py:5: SettingWithCopyWarning: \n",
            "A value is trying to be set on a copy of a slice from a DataFrame.\n",
            "Try using .loc[row_indexer,col_indexer] = value instead\n",
            "\n",
            "See the caveats in the documentation: http://pandas.pydata.org/pandas-docs/stable/user_guide/indexing.html#returning-a-view-versus-a-copy\n",
            "  \"\"\"\n",
            "/usr/local/lib/python3.6/dist-packages/pandas/core/frame.py:4117: SettingWithCopyWarning: \n",
            "A value is trying to be set on a copy of a slice from a DataFrame\n",
            "\n",
            "See the caveats in the documentation: http://pandas.pydata.org/pandas-docs/stable/user_guide/indexing.html#returning-a-view-versus-a-copy\n",
            "  errors=errors,\n"
          ],
          "name": "stderr"
        },
        {
          "output_type": "execute_result",
          "data": {
            "text/html": [
              "<div>\n",
              "<style scoped>\n",
              "    .dataframe tbody tr th:only-of-type {\n",
              "        vertical-align: middle;\n",
              "    }\n",
              "\n",
              "    .dataframe tbody tr th {\n",
              "        vertical-align: top;\n",
              "    }\n",
              "\n",
              "    .dataframe thead th {\n",
              "        text-align: right;\n",
              "    }\n",
              "</style>\n",
              "<table border=\"1\" class=\"dataframe\">\n",
              "  <thead>\n",
              "    <tr style=\"text-align: right;\">\n",
              "      <th></th>\n",
              "      <th>Address</th>\n",
              "      <th>Cars</th>\n",
              "      <th>Bluecar counter</th>\n",
              "      <th>Utilib counter</th>\n",
              "      <th>Utilib 1.4 counter</th>\n",
              "      <th>Charge Slots</th>\n",
              "      <th>Charging Status</th>\n",
              "      <th>City</th>\n",
              "      <th>ID</th>\n",
              "      <th>Kind</th>\n",
              "      <th>Geo point</th>\n",
              "      <th>Postal code</th>\n",
              "      <th>Public name</th>\n",
              "      <th>Rental status</th>\n",
              "      <th>Slots</th>\n",
              "      <th>Station type</th>\n",
              "      <th>Status</th>\n",
              "      <th>Subscription status</th>\n",
              "      <th>Date-Time</th>\n",
              "    </tr>\n",
              "  </thead>\n",
              "  <tbody>\n",
              "    <tr>\n",
              "      <th>0</th>\n",
              "      <td>2 Avenue de Suffren</td>\n",
              "      <td>0</td>\n",
              "      <td>0</td>\n",
              "      <td>0</td>\n",
              "      <td>0</td>\n",
              "      <td>0</td>\n",
              "      <td>nonexistent</td>\n",
              "      <td>Paris</td>\n",
              "      <td>paris-suffren-2</td>\n",
              "      <td>STATION</td>\n",
              "      <td>48.857, 2.2917</td>\n",
              "      <td>75015</td>\n",
              "      <td>Paris/Suffren/2</td>\n",
              "      <td>operational</td>\n",
              "      <td>2</td>\n",
              "      <td>station</td>\n",
              "      <td>ok</td>\n",
              "      <td>nonexistent</td>\n",
              "      <td>2018-4-8-11-43</td>\n",
              "    </tr>\n",
              "    <tr>\n",
              "      <th>1</th>\n",
              "      <td>145 Rue Raymond Losserand</td>\n",
              "      <td>6</td>\n",
              "      <td>6</td>\n",
              "      <td>0</td>\n",
              "      <td>0</td>\n",
              "      <td>0</td>\n",
              "      <td>operational</td>\n",
              "      <td>Paris</td>\n",
              "      <td>paris-raymondlosserand-145</td>\n",
              "      <td>STATION</td>\n",
              "      <td>48.83126, 2.313088</td>\n",
              "      <td>75014</td>\n",
              "      <td>Paris/Raymond Losserand/145</td>\n",
              "      <td>operational</td>\n",
              "      <td>0</td>\n",
              "      <td>station</td>\n",
              "      <td>ok</td>\n",
              "      <td>nonexistent</td>\n",
              "      <td>2018-4-6-7-24</td>\n",
              "    </tr>\n",
              "    <tr>\n",
              "      <th>4</th>\n",
              "      <td>6 avenue de la Porte de Champerret</td>\n",
              "      <td>3</td>\n",
              "      <td>3</td>\n",
              "      <td>0</td>\n",
              "      <td>0</td>\n",
              "      <td>0</td>\n",
              "      <td>nonexistent</td>\n",
              "      <td>Paris</td>\n",
              "      <td>paris-portedechamperret-6</td>\n",
              "      <td>PARKING</td>\n",
              "      <td>48.8862632, 2.2874511</td>\n",
              "      <td>75017</td>\n",
              "      <td>Paris/Porte de Champerret/6</td>\n",
              "      <td>operational</td>\n",
              "      <td>3</td>\n",
              "      <td>station</td>\n",
              "      <td>ok</td>\n",
              "      <td>nonexistent</td>\n",
              "      <td>2018-4-8-17-23</td>\n",
              "    </tr>\n",
              "    <tr>\n",
              "      <th>5</th>\n",
              "      <td>8 Boulevard Voltaire</td>\n",
              "      <td>0</td>\n",
              "      <td>0</td>\n",
              "      <td>0</td>\n",
              "      <td>0</td>\n",
              "      <td>0</td>\n",
              "      <td>nonexistent</td>\n",
              "      <td>Paris</td>\n",
              "      <td>paris-voltaire-8</td>\n",
              "      <td>STATION</td>\n",
              "      <td>48.8657658, 2.3664376</td>\n",
              "      <td>75011</td>\n",
              "      <td>Paris/Voltaire/8</td>\n",
              "      <td>operational</td>\n",
              "      <td>4</td>\n",
              "      <td>station</td>\n",
              "      <td>ok</td>\n",
              "      <td>nonexistent</td>\n",
              "      <td>2018-4-6-7-2</td>\n",
              "    </tr>\n",
              "    <tr>\n",
              "      <th>6</th>\n",
              "      <td>37 rue Leblanc</td>\n",
              "      <td>0</td>\n",
              "      <td>0</td>\n",
              "      <td>0</td>\n",
              "      <td>0</td>\n",
              "      <td>0</td>\n",
              "      <td>nonexistent</td>\n",
              "      <td>Paris</td>\n",
              "      <td>paris-citroencevennes-parking</td>\n",
              "      <td>PARKING</td>\n",
              "      <td>48.83874, 2.27641</td>\n",
              "      <td>75015</td>\n",
              "      <td>Paris/CitroÃ«n CÃ©vennes/Parking</td>\n",
              "      <td>broken</td>\n",
              "      <td>0</td>\n",
              "      <td>station</td>\n",
              "      <td>closed</td>\n",
              "      <td>nonexistent</td>\n",
              "      <td>2018-4-8-18-20</td>\n",
              "    </tr>\n",
              "  </tbody>\n",
              "</table>\n",
              "</div>"
            ],
            "text/plain": [
              "                              Address  Cars  ...  Subscription status       Date-Time\n",
              "0                 2 Avenue de Suffren     0  ...          nonexistent  2018-4-8-11-43\n",
              "1           145 Rue Raymond Losserand     6  ...          nonexistent   2018-4-6-7-24\n",
              "4  6 avenue de la Porte de Champerret     3  ...          nonexistent  2018-4-8-17-23\n",
              "5                8 Boulevard Voltaire     0  ...          nonexistent    2018-4-6-7-2\n",
              "6                      37 rue Leblanc     0  ...          nonexistent  2018-4-8-18-20\n",
              "\n",
              "[5 rows x 19 columns]"
            ]
          },
          "metadata": {
            "tags": []
          },
          "execution_count": 7
        }
      ]
    },
    {
      "cell_type": "code",
      "metadata": {
        "id": "2ufqJzpOd5kq",
        "colab_type": "code",
        "outputId": "51ab4c17-8988-4e6e-b1f6-646f1126d528",
        "colab": {
          "base_uri": "https://localhost:8080/",
          "height": 146
        }
      },
      "source": [
        "#converting date_time from string to datetime.\n",
        "\n",
        "dff['Date-Time']= pd.to_datetime(dff['Date-Time'],format='%Y-%m-%d-%H-%M' )\n"
      ],
      "execution_count": 0,
      "outputs": [
        {
          "output_type": "stream",
          "text": [
            "/usr/local/lib/python3.6/dist-packages/ipykernel_launcher.py:2: SettingWithCopyWarning: \n",
            "A value is trying to be set on a copy of a slice from a DataFrame.\n",
            "Try using .loc[row_indexer,col_indexer] = value instead\n",
            "\n",
            "See the caveats in the documentation: http://pandas.pydata.org/pandas-docs/stable/user_guide/indexing.html#returning-a-view-versus-a-copy\n",
            "  \n"
          ],
          "name": "stderr"
        }
      ]
    },
    {
      "cell_type": "code",
      "metadata": {
        "id": "bgRI6lTML44K",
        "colab_type": "code",
        "outputId": "8aec9d5f-52e9-4e1d-eed3-0602f3d762be",
        "colab": {
          "base_uri": "https://localhost:8080/",
          "height": 235
        }
      },
      "source": [
        "dff['Date-Time']"
      ],
      "execution_count": 0,
      "outputs": [
        {
          "output_type": "execute_result",
          "data": {
            "text/plain": [
              "0      2018-04-08 11:43:00\n",
              "1      2018-04-06 07:24:00\n",
              "4      2018-04-08 17:23:00\n",
              "5      2018-04-06 07:02:00\n",
              "6      2018-04-08 18:20:00\n",
              "               ...        \n",
              "4993   2018-04-02 04:43:00\n",
              "4994   2018-04-01 20:49:00\n",
              "4995   2018-04-06 11:26:00\n",
              "4998   2018-04-04 17:27:00\n",
              "4999   2018-04-08 10:02:00\n",
              "Name: Date-Time, Length: 3317, dtype: datetime64[ns]"
            ]
          },
          "metadata": {
            "tags": []
          },
          "execution_count": 9
        }
      ]
    },
    {
      "cell_type": "markdown",
      "metadata": {
        "id": "ZvOl8jmFmwJU",
        "colab_type": "text"
      },
      "source": [
        "# UNIVARIATE ANALYSIS"
      ]
    },
    {
      "cell_type": "code",
      "metadata": {
        "id": "NegPLG21p8wO",
        "colab_type": "code",
        "colab": {}
      },
      "source": [
        "#importing libraries\n",
        "import seaborn as sns\n",
        "import matplotlib.pyplot as plt\n",
        "import seaborn as sns \n"
      ],
      "execution_count": 0,
      "outputs": []
    },
    {
      "cell_type": "code",
      "metadata": {
        "id": "8koeLxpltPIO",
        "colab_type": "code",
        "outputId": "a84582f0-e7a7-4fb3-b34f-abf0a667b72c",
        "colab": {
          "base_uri": "https://localhost:8080/",
          "height": 235
        }
      },
      "source": [
        "#analysing adresses column.\n",
        "#dff['Address'].value_counts().plot(kind='bar')\n",
        "dff['Address'].value_counts()"
      ],
      "execution_count": 0,
      "outputs": [
        {
          "output_type": "execute_result",
          "data": {
            "text/plain": [
              "31 boulevard de Grenelle       11\n",
              "32 rue Robert Marchand         10\n",
              "20 Rue Villiot                  9\n",
              "58 avenue de la RÃ©publique     9\n",
              "125 rue Diderot                 9\n",
              "                               ..\n",
              "16 avenue de la rÃ©publique     1\n",
              "2 bis rue Valette               1\n",
              "17 voie Sonia Delaunay          1\n",
              "8 Quai du MarchÃ© Neuf          1\n",
              "35 quai Alphonse Le Gallo       1\n",
              "Name: Address, Length: 1004, dtype: int64"
            ]
          },
          "metadata": {
            "tags": []
          },
          "execution_count": 11
        }
      ]
    },
    {
      "cell_type": "markdown",
      "metadata": {
        "id": "TEKFQ8KNueLX",
        "colab_type": "text"
      },
      "source": [
        "The 31 boulevard de Grenelle appears most times.From the data we can say it is the most active station"
      ]
    },
    {
      "cell_type": "code",
      "metadata": {
        "id": "-XuOCYSOuyfL",
        "colab_type": "code",
        "outputId": "06e5be27-ca86-4505-a3d6-d33c39eceb2c",
        "colab": {
          "base_uri": "https://localhost:8080/",
          "height": 235
        }
      },
      "source": [
        "# city counts.\n",
        "dff['City'].value_counts()\n"
      ],
      "execution_count": 0,
      "outputs": [
        {
          "output_type": "execute_result",
          "data": {
            "text/plain": [
              "Paris                    1550\n",
              "Nanterre                  100\n",
              "Issy-les-Moulineaux        82\n",
              "CrÃ©teil                   78\n",
              "Rueil-Malmaison            73\n",
              "                         ... \n",
              "Meudon-la-ForÃªt            3\n",
              "Le PrÃ©-Saint-Gervais       3\n",
              "Aubervilliers               3\n",
              "Saint-Maur                  2\n",
              "Clichy la garenne           2\n",
              "Name: City, Length: 87, dtype: int64"
            ]
          },
          "metadata": {
            "tags": []
          },
          "execution_count": 12
        }
      ]
    },
    {
      "cell_type": "markdown",
      "metadata": {
        "id": "YYXBneuuxgnd",
        "colab_type": "text"
      },
      "source": [
        "It is clear that most of the electric cars are operating on paris.\n"
      ]
    },
    {
      "cell_type": "code",
      "metadata": {
        "id": "yfCZKyCSxpcH",
        "colab_type": "code",
        "outputId": "cbefac32-d6e9-4043-dc80-7523c303825e",
        "colab": {
          "base_uri": "https://localhost:8080/",
          "height": 335
        }
      },
      "source": [
        "dff['Charging Status'].value_counts().plot(kind='bar')\n",
        "plt.ylabel('count')"
      ],
      "execution_count": 0,
      "outputs": [
        {
          "output_type": "execute_result",
          "data": {
            "text/plain": [
              "Text(0, 0.5, 'count')"
            ]
          },
          "metadata": {
            "tags": []
          },
          "execution_count": 13
        },
        {
          "output_type": "display_data",
          "data": {
            "image/png": "[encoded data removed]",
            "text/plain": [
              "<Figure size 432x288 with 1 Axes>"
            ]
          },
          "metadata": {
            "tags": []
          }
        }
      ]
    },
    {
      "cell_type": "markdown",
      "metadata": {
        "id": "Cx-9TOlsx35h",
        "colab_type": "text"
      },
      "source": [
        "Most stations dont have charging slots. This could probably be attributed to the fact that EC's are just entering into market and construction of fully operational stations is still ongoing."
      ]
    },
    {
      "cell_type": "code",
      "metadata": {
        "id": "xtb4d4uDyZLs",
        "colab_type": "code",
        "outputId": "9480e6cb-6279-4393-f83c-940268ae00ef",
        "colab": {
          "base_uri": "https://localhost:8080/",
          "height": 332
        }
      },
      "source": [
        "dff['Kind'].value_counts().plot(kind='bar')\n",
        "plt.xlabel('Count')"
      ],
      "execution_count": 0,
      "outputs": [
        {
          "output_type": "execute_result",
          "data": {
            "text/plain": [
              "Text(0.5, 0, 'Count')"
            ]
          },
          "metadata": {
            "tags": []
          },
          "execution_count": 14
        },
        {
          "output_type": "display_data",
          "data": {
            "image/png": "[encoded data removed]",
            "text/plain": [
              "<Figure size 432x288 with 1 Axes>"
            ]
          },
          "metadata": {
            "tags": []
          }
        }
      ]
    },
    {
      "cell_type": "markdown",
      "metadata": {
        "id": "hlDOFCNMzMkE",
        "colab_type": "text"
      },
      "source": [
        "Some car centres are stations others are parking areas, spaces and centres. full stations are the most. here an EC can get all the services contrary to the rest."
      ]
    },
    {
      "cell_type": "code",
      "metadata": {
        "id": "AaP2aHhBymIe",
        "colab_type": "code",
        "outputId": "72857cc3-db0b-4af4-a88f-f4bb8a6e8a17",
        "colab": {
          "base_uri": "https://localhost:8080/",
          "height": 335
        }
      },
      "source": [
        "dff['Station type'].value_counts().plot(kind='bar')\n",
        "plt.ylabel('count')"
      ],
      "execution_count": 0,
      "outputs": [
        {
          "output_type": "execute_result",
          "data": {
            "text/plain": [
              "Text(0, 0.5, 'count')"
            ]
          },
          "metadata": {
            "tags": []
          },
          "execution_count": 15
        },
        {
          "output_type": "display_data",
          "data": {
            "image/png": "[encoded data removed]",
            "text/plain": [
              "<Figure size 432x288 with 1 Axes>"
            ]
          },
          "metadata": {
            "tags": []
          }
        }
      ]
    },
    {
      "cell_type": "code",
      "metadata": {
        "id": "DoqGrLvp62KK",
        "colab_type": "code",
        "outputId": "155dc096-5f63-40ef-a094-9f3cc7a2ea2b",
        "colab": {
          "base_uri": "https://localhost:8080/",
          "height": 332
        }
      },
      "source": [
        "dff['Rental status'].value_counts().plot(kind='bar')\n",
        "plt.ylabel('count')"
      ],
      "execution_count": 0,
      "outputs": [
        {
          "output_type": "execute_result",
          "data": {
            "text/plain": [
              "Text(0, 0.5, 'count')"
            ]
          },
          "metadata": {
            "tags": []
          },
          "execution_count": 16
        },
        {
          "output_type": "display_data",
          "data": {
            "image/png": "[encoded data removed]",
            "text/plain": [
              "<Figure size 432x288 with 1 Axes>"
            ]
          },
          "metadata": {
            "tags": []
          }
        }
      ]
    },
    {
      "cell_type": "markdown",
      "metadata": {
        "id": "AyXumyPV69qT",
        "colab_type": "text"
      },
      "source": [
        "Renting of ECs can be done in most stations"
      ]
    },
    {
      "cell_type": "code",
      "metadata": {
        "id": "4Bj9sF8i78YO",
        "colab_type": "code",
        "outputId": "6a4cb00c-96b1-475c-94db-a815e0ac086a",
        "colab": {
          "base_uri": "https://localhost:8080/",
          "height": 295
        }
      },
      "source": [
        "dff['Slots'].value_counts().plot(kind='bar')\n",
        "plt.xlabel('No.of charging slots')\n",
        "plt.ylabel('count')"
      ],
      "execution_count": 0,
      "outputs": [
        {
          "output_type": "execute_result",
          "data": {
            "text/plain": [
              "Text(0, 0.5, 'count')"
            ]
          },
          "metadata": {
            "tags": []
          },
          "execution_count": 17
        },
        {
          "output_type": "display_data",
          "data": {
            "image/png": "[encoded data removed]",
            "text/plain": [
              "<Figure size 432x288 with 1 Axes>"
            ]
          },
          "metadata": {
            "tags": []
          }
        }
      ]
    },
    {
      "cell_type": "markdown",
      "metadata": {
        "id": "Rrj_JCLp8JHK",
        "colab_type": "text"
      },
      "source": [
        "Mosts stations have no charging slots. "
      ]
    },
    {
      "cell_type": "code",
      "metadata": {
        "id": "L6cipD_1-LNT",
        "colab_type": "code",
        "outputId": "bedc1289-5690-484a-db10-391880297b38",
        "colab": {
          "base_uri": "https://localhost:8080/",
          "height": 332
        }
      },
      "source": [
        "dff['Subscription status'].value_counts().plot(kind='bar')\n",
        "plt.ylabel('count')"
      ],
      "execution_count": 0,
      "outputs": [
        {
          "output_type": "execute_result",
          "data": {
            "text/plain": [
              "Text(0, 0.5, 'count')"
            ]
          },
          "metadata": {
            "tags": []
          },
          "execution_count": 18
        },
        {
          "output_type": "display_data",
          "data": {
            "image/png": "[encoded data removed]",
            "text/plain": [
              "<Figure size 432x288 with 1 Axes>"
            ]
          },
          "metadata": {
            "tags": []
          }
        }
      ]
    },
    {
      "cell_type": "markdown",
      "metadata": {
        "id": "ha7L_oxS-lUZ",
        "colab_type": "text"
      },
      "source": [
        "most station's subscription is non-existence followed by operationaal and then broken"
      ]
    },
    {
      "cell_type": "code",
      "metadata": {
        "id": "13wKgNVL-_Me",
        "colab_type": "code",
        "outputId": "5a9ca564-975c-4eb5-fe68-2db6216c3619",
        "colab": {
          "base_uri": "https://localhost:8080/",
          "height": 283
        }
      },
      "source": [
        "a=['Bluecar counter',\t'Utilib counter',\t'Utilib 1.4 counter']\n",
        "y=[i for i in dff[a].sum()]\n",
        "y\n",
        "sns.barplot(x=a, y=y)\n",
        "#plt.bar(a,y, kind='bar',color='green')"
      ],
      "execution_count": 0,
      "outputs": [
        {
          "output_type": "execute_result",
          "data": {
            "text/plain": [
              "<matplotlib.axes._subplots.AxesSubplot at 0x7f9ecc532940>"
            ]
          },
          "metadata": {
            "tags": []
          },
          "execution_count": 19
        },
        {
          "output_type": "display_data",
          "data": {
            "image/png": "[encoded data removed]",
            "text/plain": [
              "<Figure size 432x288 with 1 Axes>"
            ]
          },
          "metadata": {
            "tags": []
          }
        }
      ]
    },
    {
      "cell_type": "markdown",
      "metadata": {
        "id": "8Gbl6oN3B40V",
        "colab_type": "text"
      },
      "source": [
        "# BIVARIATE ANALYSIS"
      ]
    },
    {
      "cell_type": "markdown",
      "metadata": {
        "id": "aRhTFwhTBdcG",
        "colab_type": "text"
      },
      "source": [
        "There is only ativity for the blue car. From the data we can conclude that the utilib counter and the utilib  1.4 counter are not oprational."
      ]
    },
    {
      "cell_type": "code",
      "metadata": {
        "id": "R1-9THGuZqyL",
        "colab_type": "code",
        "outputId": "e990b17c-1645-49fe-dffc-4ca751065c6a",
        "colab": {
          "base_uri": "https://localhost:8080/",
          "height": 332
        }
      },
      "source": [
        "dff.groupby('Kind')['Slots'].sum().plot(kind='bar')\n",
        "plt.ylabel('total no.of slots')\n"
      ],
      "execution_count": 0,
      "outputs": [
        {
          "output_type": "execute_result",
          "data": {
            "text/plain": [
              "Text(0, 0.5, 'total no.of slots')"
            ]
          },
          "metadata": {
            "tags": []
          },
          "execution_count": 20
        },
        {
          "output_type": "display_data",
          "data": {
            "image/png": "[encoded data removed]",
            "text/plain": [
              "<Figure size 432x288 with 1 Axes>"
            ]
          },
          "metadata": {
            "tags": []
          }
        }
      ]
    },
    {
      "cell_type": "markdown",
      "metadata": {
        "id": "pnqofSMBb8pG",
        "colab_type": "text"
      },
      "source": [
        "The stations have the highest number of charging slots."
      ]
    },
    {
      "cell_type": "code",
      "metadata": {
        "id": "TDnDwM0OdDMW",
        "colab_type": "code",
        "outputId": "62a0e7b0-f044-4d60-87f1-aa188e9e74a7",
        "colab": {
          "base_uri": "https://localhost:8080/",
          "height": 421
        }
      },
      "source": [
        "dff.groupby(['Station type', 'Rental status'])['Rental status'].count().plot(kind='bar')\n",
        "plt.ylabel('Count')"
      ],
      "execution_count": 0,
      "outputs": [
        {
          "output_type": "execute_result",
          "data": {
            "text/plain": [
              "Text(0, 0.5, 'Count')"
            ]
          },
          "metadata": {
            "tags": []
          },
          "execution_count": 21
        },
        {
          "output_type": "display_data",
          "data": {
            "image/png": "[encoded data removed]",
            "text/plain": [
              "<Figure size 432x288 with 1 Axes>"
            ]
          },
          "metadata": {
            "tags": []
          }
        }
      ]
    },
    {
      "cell_type": "markdown",
      "metadata": {
        "id": "kYbJfBladxYo",
        "colab_type": "text"
      },
      "source": [
        "most of the Electric car centres are of type 'station' and they are operational"
      ]
    },
    {
      "cell_type": "code",
      "metadata": {
        "id": "wFdALYv6nlCd",
        "colab_type": "code",
        "outputId": "3df4a4e2-5cd4-4e2e-df59-6155c8e88581",
        "colab": {
          "base_uri": "https://localhost:8080/",
          "height": 332
        }
      },
      "source": [
        "dff.groupby('Kind')['Bluecar counter'].sum().plot(kind='bar')"
      ],
      "execution_count": 0,
      "outputs": [
        {
          "output_type": "execute_result",
          "data": {
            "text/plain": [
              "<matplotlib.axes._subplots.AxesSubplot at 0x7f9ecc4623c8>"
            ]
          },
          "metadata": {
            "tags": []
          },
          "execution_count": 22
        },
        {
          "output_type": "display_data",
          "data": {
            "image/png": "[encoded data removed]",
            "text/plain": [
              "<Figure size 432x288 with 1 Axes>"
            ]
          },
          "metadata": {
            "tags": []
          }
        }
      ]
    },
    {
      "cell_type": "markdown",
      "metadata": {
        "id": "4HGH-8D1i0Ap",
        "colab_type": "text"
      },
      "source": [
        "Most of the Electric vehicle operations take place in the stations.\n"
      ]
    },
    {
      "cell_type": "markdown",
      "metadata": {
        "id": "5JLvmCHHoECu",
        "colab_type": "text"
      },
      "source": [
        "# MULTIVARIATE ANALYSIS"
      ]
    },
    {
      "cell_type": "markdown",
      "metadata": {
        "id": "58uP4QL3plOw",
        "colab_type": "text"
      },
      "source": [
        "in multivariate analysis, model will try to predict station type given (slots, rental status, subscription status and status.\n"
      ]
    },
    {
      "cell_type": "code",
      "metadata": {
        "id": "thfuhHukp_w5",
        "colab_type": "code",
        "outputId": "fc06d6c2-1399-4dba-b81c-68d1c323a3cf",
        "colab": {
          "base_uri": "https://localhost:8080/",
          "height": 198
        }
      },
      "source": [
        "p=['Slots', 'Rental status', 'Subscription status', 'Status','Station type']\n",
        "t=[i for i in p]\n",
        "dfm=pd.DataFrame(dff[t])\n",
        "dfm.head()\n",
        "\n"
      ],
      "execution_count": 0,
      "outputs": [
        {
          "output_type": "execute_result",
          "data": {
            "text/html": [
              "<div>\n",
              "<style scoped>\n",
              "    .dataframe tbody tr th:only-of-type {\n",
              "        vertical-align: middle;\n",
              "    }\n",
              "\n",
              "    .dataframe tbody tr th {\n",
              "        vertical-align: top;\n",
              "    }\n",
              "\n",
              "    .dataframe thead th {\n",
              "        text-align: right;\n",
              "    }\n",
              "</style>\n",
              "<table border=\"1\" class=\"dataframe\">\n",
              "  <thead>\n",
              "    <tr style=\"text-align: right;\">\n",
              "      <th></th>\n",
              "      <th>Slots</th>\n",
              "      <th>Rental status</th>\n",
              "      <th>Subscription status</th>\n",
              "      <th>Status</th>\n",
              "      <th>Station type</th>\n",
              "    </tr>\n",
              "  </thead>\n",
              "  <tbody>\n",
              "    <tr>\n",
              "      <th>0</th>\n",
              "      <td>2</td>\n",
              "      <td>operational</td>\n",
              "      <td>nonexistent</td>\n",
              "      <td>ok</td>\n",
              "      <td>station</td>\n",
              "    </tr>\n",
              "    <tr>\n",
              "      <th>1</th>\n",
              "      <td>0</td>\n",
              "      <td>operational</td>\n",
              "      <td>nonexistent</td>\n",
              "      <td>ok</td>\n",
              "      <td>station</td>\n",
              "    </tr>\n",
              "    <tr>\n",
              "      <th>4</th>\n",
              "      <td>3</td>\n",
              "      <td>operational</td>\n",
              "      <td>nonexistent</td>\n",
              "      <td>ok</td>\n",
              "      <td>station</td>\n",
              "    </tr>\n",
              "    <tr>\n",
              "      <th>5</th>\n",
              "      <td>4</td>\n",
              "      <td>operational</td>\n",
              "      <td>nonexistent</td>\n",
              "      <td>ok</td>\n",
              "      <td>station</td>\n",
              "    </tr>\n",
              "    <tr>\n",
              "      <th>6</th>\n",
              "      <td>0</td>\n",
              "      <td>broken</td>\n",
              "      <td>nonexistent</td>\n",
              "      <td>closed</td>\n",
              "      <td>station</td>\n",
              "    </tr>\n",
              "  </tbody>\n",
              "</table>\n",
              "</div>"
            ],
            "text/plain": [
              "   Slots Rental status Subscription status  Status Station type\n",
              "0      2   operational         nonexistent      ok      station\n",
              "1      0   operational         nonexistent      ok      station\n",
              "4      3   operational         nonexistent      ok      station\n",
              "5      4   operational         nonexistent      ok      station\n",
              "6      0        broken         nonexistent  closed      station"
            ]
          },
          "metadata": {
            "tags": []
          },
          "execution_count": 23
        }
      ]
    },
    {
      "cell_type": "code",
      "metadata": {
        "id": "M-TOXGcjoQPn",
        "colab_type": "code",
        "outputId": "8710a247-0282-4b7f-82a9-410636d44fc8",
        "colab": {
          "base_uri": "https://localhost:8080/",
          "height": 198
        }
      },
      "source": [
        "# label encoding\n",
        "from sklearn.preprocessing import LabelEncoder\n",
        "label_encoder= LabelEncoder()\n",
        "dfm['Rental status']=label_encoder.fit_transform(dfm['Rental status'])\n",
        "dfm['Subscription status']=label_encoder.fit_transform(dfm['Rental status'])\n",
        "dfm['Status']=label_encoder.fit_transform(dfm['Rental status'])\n",
        "dfm.head()\n"
      ],
      "execution_count": 0,
      "outputs": [
        {
          "output_type": "execute_result",
          "data": {
            "text/html": [
              "<div>\n",
              "<style scoped>\n",
              "    .dataframe tbody tr th:only-of-type {\n",
              "        vertical-align: middle;\n",
              "    }\n",
              "\n",
              "    .dataframe tbody tr th {\n",
              "        vertical-align: top;\n",
              "    }\n",
              "\n",
              "    .dataframe thead th {\n",
              "        text-align: right;\n",
              "    }\n",
              "</style>\n",
              "<table border=\"1\" class=\"dataframe\">\n",
              "  <thead>\n",
              "    <tr style=\"text-align: right;\">\n",
              "      <th></th>\n",
              "      <th>Slots</th>\n",
              "      <th>Rental status</th>\n",
              "      <th>Subscription status</th>\n",
              "      <th>Status</th>\n",
              "      <th>Station type</th>\n",
              "    </tr>\n",
              "  </thead>\n",
              "  <tbody>\n",
              "    <tr>\n",
              "      <th>0</th>\n",
              "      <td>2</td>\n",
              "      <td>3</td>\n",
              "      <td>3</td>\n",
              "      <td>3</td>\n",
              "      <td>station</td>\n",
              "    </tr>\n",
              "    <tr>\n",
              "      <th>1</th>\n",
              "      <td>0</td>\n",
              "      <td>3</td>\n",
              "      <td>3</td>\n",
              "      <td>3</td>\n",
              "      <td>station</td>\n",
              "    </tr>\n",
              "    <tr>\n",
              "      <th>4</th>\n",
              "      <td>3</td>\n",
              "      <td>3</td>\n",
              "      <td>3</td>\n",
              "      <td>3</td>\n",
              "      <td>station</td>\n",
              "    </tr>\n",
              "    <tr>\n",
              "      <th>5</th>\n",
              "      <td>4</td>\n",
              "      <td>3</td>\n",
              "      <td>3</td>\n",
              "      <td>3</td>\n",
              "      <td>station</td>\n",
              "    </tr>\n",
              "    <tr>\n",
              "      <th>6</th>\n",
              "      <td>0</td>\n",
              "      <td>0</td>\n",
              "      <td>0</td>\n",
              "      <td>0</td>\n",
              "      <td>station</td>\n",
              "    </tr>\n",
              "  </tbody>\n",
              "</table>\n",
              "</div>"
            ],
            "text/plain": [
              "   Slots  Rental status  Subscription status  Status Station type\n",
              "0      2              3                    3       3      station\n",
              "1      0              3                    3       3      station\n",
              "4      3              3                    3       3      station\n",
              "5      4              3                    3       3      station\n",
              "6      0              0                    0       0      station"
            ]
          },
          "metadata": {
            "tags": []
          },
          "execution_count": 24
        }
      ]
    },
    {
      "cell_type": "code",
      "metadata": {
        "id": "BSy3yGp0sbJS",
        "colab_type": "code",
        "colab": {}
      },
      "source": [
        "#Separating features and labels\n",
        "X = dfm.drop('Station type', 1)\n",
        "y = dfm['Station type']\n"
      ],
      "execution_count": 0,
      "outputs": []
    },
    {
      "cell_type": "code",
      "metadata": {
        "id": "ktgj9Ro3tqbX",
        "colab_type": "code",
        "colab": {}
      },
      "source": [
        "#Split the data into a training set and testing set.\n",
        "from sklearn.model_selection import train_test_split\n",
        "\n",
        "X_train, X_test, y_train, y_test = train_test_split(X, y, test_size=0.2, random_state=0)"
      ],
      "execution_count": 0,
      "outputs": []
    },
    {
      "cell_type": "code",
      "metadata": {
        "id": "inO7tzLYt56b",
        "colab_type": "code",
        "colab": {}
      },
      "source": [
        "#Normalisation\n",
        "from sklearn.preprocessing import StandardScaler\n",
        "\n",
        "sc = StandardScaler()\n",
        "X_train = sc.fit_transform(X_train)\n",
        "X_test = sc.transform(X_test)"
      ],
      "execution_count": 0,
      "outputs": []
    },
    {
      "cell_type": "code",
      "metadata": {
        "id": "LDjV9wzFuA4p",
        "colab_type": "code",
        "colab": {}
      },
      "source": [
        "#Appying PCA\n",
        "from sklearn.decomposition import PCA\n",
        "\n",
        "pca = PCA()\n",
        "X_train = pca.fit_transform(X_train)\n",
        "X_test = pca.transform(X_test)"
      ],
      "execution_count": 0,
      "outputs": []
    },
    {
      "cell_type": "code",
      "metadata": {
        "id": "3ju4fBFBuKWJ",
        "colab_type": "code",
        "outputId": "bd281002-a7e6-44b9-af7b-669b18a4818b",
        "colab": {
          "base_uri": "https://localhost:8080/",
          "height": 35
        }
      },
      "source": [
        "explained_variance = pca.explained_variance_ratio_\n",
        "explained_variance"
      ],
      "execution_count": 0,
      "outputs": [
        {
          "output_type": "execute_result",
          "data": {
            "text/plain": [
              "array([7.85281176e-01, 2.14718824e-01, 5.89991455e-31, 1.27754625e-32])"
            ]
          },
          "metadata": {
            "tags": []
          },
          "execution_count": 29
        }
      ]
    },
    {
      "cell_type": "code",
      "metadata": {
        "id": "_NuIt_J2uZvz",
        "colab_type": "code",
        "colab": {}
      },
      "source": [
        "#Using two principal components\n",
        "from sklearn.decomposition import PCA\n",
        "\n",
        "pca = PCA(n_components=2)\n",
        "X_train = pca.fit_transform(X_train)\n",
        "X_test = pca.transform(X_test)"
      ],
      "execution_count": 0,
      "outputs": []
    },
    {
      "cell_type": "code",
      "metadata": {
        "id": "OlQ5xoddupi3",
        "colab_type": "code",
        "outputId": "9f29f921-f672-43d6-eab8-1d5900006236",
        "colab": {
          "base_uri": "https://localhost:8080/",
          "height": 201
        }
      },
      "source": [
        "#Training\n",
        "from sklearn.ensemble import RandomForestClassifier\n",
        "\n",
        "classifier = RandomForestClassifier(max_depth=2, random_state=0)\n",
        "classifier.fit(X_train, y_train)"
      ],
      "execution_count": 0,
      "outputs": [
        {
          "output_type": "stream",
          "text": [
            "/usr/local/lib/python3.6/dist-packages/sklearn/ensemble/forest.py:245: FutureWarning: The default value of n_estimators will change from 10 in version 0.20 to 100 in 0.22.\n",
            "  \"10 in version 0.20 to 100 in 0.22.\", FutureWarning)\n"
          ],
          "name": "stderr"
        },
        {
          "output_type": "execute_result",
          "data": {
            "text/plain": [
              "RandomForestClassifier(bootstrap=True, class_weight=None, criterion='gini',\n",
              "                       max_depth=2, max_features='auto', max_leaf_nodes=None,\n",
              "                       min_impurity_decrease=0.0, min_impurity_split=None,\n",
              "                       min_samples_leaf=1, min_samples_split=2,\n",
              "                       min_weight_fraction_leaf=0.0, n_estimators=10,\n",
              "                       n_jobs=None, oob_score=False, random_state=0, verbose=0,\n",
              "                       warm_start=False)"
            ]
          },
          "metadata": {
            "tags": []
          },
          "execution_count": 31
        }
      ]
    },
    {
      "cell_type": "code",
      "metadata": {
        "id": "UjXtw0PMut1H",
        "colab_type": "code",
        "colab": {}
      },
      "source": [
        "#predicting\n",
        "y_pred = classifier.predict(X_test)\n"
      ],
      "execution_count": 0,
      "outputs": []
    },
    {
      "cell_type": "code",
      "metadata": {
        "id": "E_UbPRBVvJWC",
        "colab_type": "code",
        "outputId": "9d0c4918-a4e3-4b8f-cfda-3cab4ed4f37f",
        "colab": {
          "base_uri": "https://localhost:8080/",
          "height": 90
        }
      },
      "source": [
        "#Performance evaluation\n",
        "\n",
        "from sklearn.metrics import confusion_matrix\n",
        "from sklearn.metrics import accuracy_score\n",
        "\n",
        "cm = confusion_matrix(y_test, y_pred)\n",
        "print(cm)\n",
        "print('Accuracy' , accuracy_score(y_test, y_pred))\n"
      ],
      "execution_count": 0,
      "outputs": [
        {
          "output_type": "stream",
          "text": [
            "[[  0  63   0]\n",
            " [  0 600   0]\n",
            " [  0   1   0]]\n",
            "Accuracy 0.9036144578313253\n"
          ],
          "name": "stdout"
        }
      ]
    },
    {
      "cell_type": "markdown",
      "metadata": {
        "id": "fFpyDVbBwFOZ",
        "colab_type": "text"
      },
      "source": [
        "# HYPOTHESIS TESTING"
      ]
    },
    {
      "cell_type": "markdown",
      "metadata": {
        "id": "JudDEdNLVoqr",
        "colab_type": "text"
      },
      "source": [
        " ## **Hypothesis Statement Formulation**"
      ]
    },
    {
      "cell_type": "markdown",
      "metadata": {
        "id": "YhRJSuCFDDsL",
        "colab_type": "text"
      },
      "source": [
        "**Null hypothesis.**\n",
        "\n",
        "**Ho**: The average blue car activity per station in paris is no greater in the morning hours(6-12) than in the afternoon hours(12-18).\n",
        "Ho: U1=u2"
      ]
    },
    {
      "cell_type": "markdown",
      "metadata": {
        "id": "yIF2PkdLEE5j",
        "colab_type": "text"
      },
      "source": [
        "**Alternative hypothesis.**\n",
        "\n",
        "**H1**: The average blue car activity per station in paris is greater in the morning hours(6-12) than in the afternoon hours(12-18). Ho: U1>u2"
      ]
    },
    {
      "cell_type": "markdown",
      "metadata": {
        "id": "UbwXk4tWXE44",
        "colab_type": "text"
      },
      "source": [
        "**selecting data to work with**"
      ]
    },
    {
      "cell_type": "code",
      "metadata": {
        "id": "Fz9Wif5YE6lM",
        "colab_type": "code",
        "outputId": "1f7af9c3-442d-4dec-efe0-04eff5eace5d",
        "colab": {
          "base_uri": "https://localhost:8080/",
          "height": 425
        }
      },
      "source": [
        "#OBTAINING DATA WHERE CITY IS PARIS AND CAR TYPE IS 'BLUECAR'\n",
        "dfp=dff[(dff['City']=='Paris') & (dff['Bluecar counter']!=0)]\n",
        "dfp.head()\n"
      ],
      "execution_count": 0,
      "outputs": [
        {
          "output_type": "execute_result",
          "data": {
            "text/html": [
              "<div>\n",
              "<style scoped>\n",
              "    .dataframe tbody tr th:only-of-type {\n",
              "        vertical-align: middle;\n",
              "    }\n",
              "\n",
              "    .dataframe tbody tr th {\n",
              "        vertical-align: top;\n",
              "    }\n",
              "\n",
              "    .dataframe thead th {\n",
              "        text-align: right;\n",
              "    }\n",
              "</style>\n",
              "<table border=\"1\" class=\"dataframe\">\n",
              "  <thead>\n",
              "    <tr style=\"text-align: right;\">\n",
              "      <th></th>\n",
              "      <th>Address</th>\n",
              "      <th>Cars</th>\n",
              "      <th>Bluecar counter</th>\n",
              "      <th>Utilib counter</th>\n",
              "      <th>Utilib 1.4 counter</th>\n",
              "      <th>Charge Slots</th>\n",
              "      <th>Charging Status</th>\n",
              "      <th>City</th>\n",
              "      <th>ID</th>\n",
              "      <th>Kind</th>\n",
              "      <th>Geo point</th>\n",
              "      <th>Postal code</th>\n",
              "      <th>Public name</th>\n",
              "      <th>Rental status</th>\n",
              "      <th>Slots</th>\n",
              "      <th>Station type</th>\n",
              "      <th>Status</th>\n",
              "      <th>Subscription status</th>\n",
              "      <th>Date-Time</th>\n",
              "    </tr>\n",
              "  </thead>\n",
              "  <tbody>\n",
              "    <tr>\n",
              "      <th>1</th>\n",
              "      <td>145 Rue Raymond Losserand</td>\n",
              "      <td>6</td>\n",
              "      <td>6</td>\n",
              "      <td>0</td>\n",
              "      <td>0</td>\n",
              "      <td>0</td>\n",
              "      <td>operational</td>\n",
              "      <td>Paris</td>\n",
              "      <td>paris-raymondlosserand-145</td>\n",
              "      <td>STATION</td>\n",
              "      <td>48.83126, 2.313088</td>\n",
              "      <td>75014</td>\n",
              "      <td>Paris/Raymond Losserand/145</td>\n",
              "      <td>operational</td>\n",
              "      <td>0</td>\n",
              "      <td>station</td>\n",
              "      <td>ok</td>\n",
              "      <td>nonexistent</td>\n",
              "      <td>2018-04-06 07:24:00</td>\n",
              "    </tr>\n",
              "    <tr>\n",
              "      <th>4</th>\n",
              "      <td>6 avenue de la Porte de Champerret</td>\n",
              "      <td>3</td>\n",
              "      <td>3</td>\n",
              "      <td>0</td>\n",
              "      <td>0</td>\n",
              "      <td>0</td>\n",
              "      <td>nonexistent</td>\n",
              "      <td>Paris</td>\n",
              "      <td>paris-portedechamperret-6</td>\n",
              "      <td>PARKING</td>\n",
              "      <td>48.8862632, 2.2874511</td>\n",
              "      <td>75017</td>\n",
              "      <td>Paris/Porte de Champerret/6</td>\n",
              "      <td>operational</td>\n",
              "      <td>3</td>\n",
              "      <td>station</td>\n",
              "      <td>ok</td>\n",
              "      <td>nonexistent</td>\n",
              "      <td>2018-04-08 17:23:00</td>\n",
              "    </tr>\n",
              "    <tr>\n",
              "      <th>8</th>\n",
              "      <td>34 avenue Jean Moulin</td>\n",
              "      <td>1</td>\n",
              "      <td>1</td>\n",
              "      <td>0</td>\n",
              "      <td>0</td>\n",
              "      <td>0</td>\n",
              "      <td>nonexistent</td>\n",
              "      <td>Paris</td>\n",
              "      <td>paris-jeanmoulin-34</td>\n",
              "      <td>STATION</td>\n",
              "      <td>48.8266807, 2.3237355</td>\n",
              "      <td>75014</td>\n",
              "      <td>Paris/Jean Moulin/34</td>\n",
              "      <td>operational</td>\n",
              "      <td>4</td>\n",
              "      <td>station</td>\n",
              "      <td>ok</td>\n",
              "      <td>nonexistent</td>\n",
              "      <td>2018-04-02 22:58:00</td>\n",
              "    </tr>\n",
              "    <tr>\n",
              "      <th>9</th>\n",
              "      <td>41 boulevard de Rochechouart</td>\n",
              "      <td>6</td>\n",
              "      <td>6</td>\n",
              "      <td>0</td>\n",
              "      <td>0</td>\n",
              "      <td>0</td>\n",
              "      <td>nonexistent</td>\n",
              "      <td>Paris</td>\n",
              "      <td>paris-anvers-parking</td>\n",
              "      <td>PARKING</td>\n",
              "      <td>48.88267, 2.34405</td>\n",
              "      <td>75009</td>\n",
              "      <td>Paris/Anvers/Parking</td>\n",
              "      <td>operational</td>\n",
              "      <td>0</td>\n",
              "      <td>station</td>\n",
              "      <td>ok</td>\n",
              "      <td>nonexistent</td>\n",
              "      <td>2018-04-04 15:02:00</td>\n",
              "    </tr>\n",
              "    <tr>\n",
              "      <th>17</th>\n",
              "      <td>182 Boulevard Voltaire</td>\n",
              "      <td>6</td>\n",
              "      <td>6</td>\n",
              "      <td>0</td>\n",
              "      <td>0</td>\n",
              "      <td>0</td>\n",
              "      <td>operational</td>\n",
              "      <td>Paris</td>\n",
              "      <td>paris-voltaire-182</td>\n",
              "      <td>STATION</td>\n",
              "      <td>48.8548, 2.385047</td>\n",
              "      <td>75011</td>\n",
              "      <td>Paris/Voltaire/182</td>\n",
              "      <td>operational</td>\n",
              "      <td>0</td>\n",
              "      <td>station</td>\n",
              "      <td>ok</td>\n",
              "      <td>nonexistent</td>\n",
              "      <td>2018-04-09 12:14:00</td>\n",
              "    </tr>\n",
              "  </tbody>\n",
              "</table>\n",
              "</div>"
            ],
            "text/plain": [
              "                               Address  ...           Date-Time\n",
              "1            145 Rue Raymond Losserand  ... 2018-04-06 07:24:00\n",
              "4   6 avenue de la Porte de Champerret  ... 2018-04-08 17:23:00\n",
              "8                34 avenue Jean Moulin  ... 2018-04-02 22:58:00\n",
              "9         41 boulevard de Rochechouart  ... 2018-04-04 15:02:00\n",
              "17              182 Boulevard Voltaire  ... 2018-04-09 12:14:00\n",
              "\n",
              "[5 rows x 19 columns]"
            ]
          },
          "metadata": {
            "tags": []
          },
          "execution_count": 34
        }
      ]
    },
    {
      "cell_type": "markdown",
      "metadata": {
        "id": "ZMd5Ldd0VIHn",
        "colab_type": "text"
      },
      "source": [
        "MORNING HOURS DATA"
      ]
    },
    {
      "cell_type": "code",
      "metadata": {
        "id": "uWHP-NxyjLMf",
        "colab_type": "code",
        "outputId": "e07f9e6d-bb79-4d9b-f564-9a00acd46b24",
        "colab": {
          "base_uri": "https://localhost:8080/",
          "height": 425
        }
      },
      "source": [
        "#Here we obtain a subset of data where hours are between 6 and 12\n",
        "X=dfp[(dfp['Date-Time'].dt.hour>5) & (dfp['Date-Time'].dt.hour<13)]\n",
        "X.head()"
      ],
      "execution_count": 0,
      "outputs": [
        {
          "output_type": "execute_result",
          "data": {
            "text/html": [
              "<div>\n",
              "<style scoped>\n",
              "    .dataframe tbody tr th:only-of-type {\n",
              "        vertical-align: middle;\n",
              "    }\n",
              "\n",
              "    .dataframe tbody tr th {\n",
              "        vertical-align: top;\n",
              "    }\n",
              "\n",
              "    .dataframe thead th {\n",
              "        text-align: right;\n",
              "    }\n",
              "</style>\n",
              "<table border=\"1\" class=\"dataframe\">\n",
              "  <thead>\n",
              "    <tr style=\"text-align: right;\">\n",
              "      <th></th>\n",
              "      <th>Address</th>\n",
              "      <th>Cars</th>\n",
              "      <th>Bluecar counter</th>\n",
              "      <th>Utilib counter</th>\n",
              "      <th>Utilib 1.4 counter</th>\n",
              "      <th>Charge Slots</th>\n",
              "      <th>Charging Status</th>\n",
              "      <th>City</th>\n",
              "      <th>ID</th>\n",
              "      <th>Kind</th>\n",
              "      <th>Geo point</th>\n",
              "      <th>Postal code</th>\n",
              "      <th>Public name</th>\n",
              "      <th>Rental status</th>\n",
              "      <th>Slots</th>\n",
              "      <th>Station type</th>\n",
              "      <th>Status</th>\n",
              "      <th>Subscription status</th>\n",
              "      <th>Date-Time</th>\n",
              "    </tr>\n",
              "  </thead>\n",
              "  <tbody>\n",
              "    <tr>\n",
              "      <th>1</th>\n",
              "      <td>145 Rue Raymond Losserand</td>\n",
              "      <td>6</td>\n",
              "      <td>6</td>\n",
              "      <td>0</td>\n",
              "      <td>0</td>\n",
              "      <td>0</td>\n",
              "      <td>operational</td>\n",
              "      <td>Paris</td>\n",
              "      <td>paris-raymondlosserand-145</td>\n",
              "      <td>STATION</td>\n",
              "      <td>48.83126, 2.313088</td>\n",
              "      <td>75014</td>\n",
              "      <td>Paris/Raymond Losserand/145</td>\n",
              "      <td>operational</td>\n",
              "      <td>0</td>\n",
              "      <td>station</td>\n",
              "      <td>ok</td>\n",
              "      <td>nonexistent</td>\n",
              "      <td>2018-04-06 07:24:00</td>\n",
              "    </tr>\n",
              "    <tr>\n",
              "      <th>17</th>\n",
              "      <td>182 Boulevard Voltaire</td>\n",
              "      <td>6</td>\n",
              "      <td>6</td>\n",
              "      <td>0</td>\n",
              "      <td>0</td>\n",
              "      <td>0</td>\n",
              "      <td>operational</td>\n",
              "      <td>Paris</td>\n",
              "      <td>paris-voltaire-182</td>\n",
              "      <td>STATION</td>\n",
              "      <td>48.8548, 2.385047</td>\n",
              "      <td>75011</td>\n",
              "      <td>Paris/Voltaire/182</td>\n",
              "      <td>operational</td>\n",
              "      <td>0</td>\n",
              "      <td>station</td>\n",
              "      <td>ok</td>\n",
              "      <td>nonexistent</td>\n",
              "      <td>2018-04-09 12:14:00</td>\n",
              "    </tr>\n",
              "    <tr>\n",
              "      <th>20</th>\n",
              "      <td>2 Place de Catalogne</td>\n",
              "      <td>3</td>\n",
              "      <td>3</td>\n",
              "      <td>0</td>\n",
              "      <td>0</td>\n",
              "      <td>0</td>\n",
              "      <td>operational</td>\n",
              "      <td>Paris</td>\n",
              "      <td>paris-catalogne-2</td>\n",
              "      <td>SPACE</td>\n",
              "      <td>48.8367951, 2.3186569</td>\n",
              "      <td>75014</td>\n",
              "      <td>Paris/Catalogne/2</td>\n",
              "      <td>operational</td>\n",
              "      <td>0</td>\n",
              "      <td>full_station</td>\n",
              "      <td>ok</td>\n",
              "      <td>operational</td>\n",
              "      <td>2018-04-05 06:16:00</td>\n",
              "    </tr>\n",
              "    <tr>\n",
              "      <th>33</th>\n",
              "      <td>6 rue de Londres</td>\n",
              "      <td>3</td>\n",
              "      <td>3</td>\n",
              "      <td>0</td>\n",
              "      <td>0</td>\n",
              "      <td>0</td>\n",
              "      <td>nonexistent</td>\n",
              "      <td>Paris</td>\n",
              "      <td>paris-londres-6</td>\n",
              "      <td>STATION</td>\n",
              "      <td>48.8768536, 2.3302084</td>\n",
              "      <td>75009</td>\n",
              "      <td>Paris/Londres/6</td>\n",
              "      <td>operational</td>\n",
              "      <td>0</td>\n",
              "      <td>station</td>\n",
              "      <td>ok</td>\n",
              "      <td>nonexistent</td>\n",
              "      <td>2018-04-09 10:28:00</td>\n",
              "    </tr>\n",
              "    <tr>\n",
              "      <th>58</th>\n",
              "      <td>229 Rue Raymond Losserand</td>\n",
              "      <td>5</td>\n",
              "      <td>5</td>\n",
              "      <td>0</td>\n",
              "      <td>0</td>\n",
              "      <td>0</td>\n",
              "      <td>operational</td>\n",
              "      <td>Paris</td>\n",
              "      <td>paris-raymondlosserand-229</td>\n",
              "      <td>STATION</td>\n",
              "      <td>48.828, 2.306022</td>\n",
              "      <td>75014</td>\n",
              "      <td>Paris/Raymond Losserand/229</td>\n",
              "      <td>operational</td>\n",
              "      <td>1</td>\n",
              "      <td>station</td>\n",
              "      <td>ok</td>\n",
              "      <td>nonexistent</td>\n",
              "      <td>2018-04-08 08:22:00</td>\n",
              "    </tr>\n",
              "  </tbody>\n",
              "</table>\n",
              "</div>"
            ],
            "text/plain": [
              "                      Address  Cars  ...  Subscription status           Date-Time\n",
              "1   145 Rue Raymond Losserand     6  ...          nonexistent 2018-04-06 07:24:00\n",
              "17     182 Boulevard Voltaire     6  ...          nonexistent 2018-04-09 12:14:00\n",
              "20       2 Place de Catalogne     3  ...          operational 2018-04-05 06:16:00\n",
              "33           6 rue de Londres     3  ...          nonexistent 2018-04-09 10:28:00\n",
              "58  229 Rue Raymond Losserand     5  ...          nonexistent 2018-04-08 08:22:00\n",
              "\n",
              "[5 rows x 19 columns]"
            ]
          },
          "metadata": {
            "tags": []
          },
          "execution_count": 35
        }
      ]
    },
    {
      "cell_type": "code",
      "metadata": {
        "id": "MnbcxhiLwVTQ",
        "colab_type": "code",
        "outputId": "15c12f6d-e846-41f1-a026-694a71594629",
        "colab": {
          "base_uri": "https://localhost:8080/",
          "height": 366
        }
      },
      "source": [
        "# We sort values by station ID and date time, so it is clear how cars arrived \n",
        "# and left a particlar station\n",
        "X1=X.sort_values('Date-Time').groupby(['ID','Date-Time']).sum()\n",
        "X1.head()"
      ],
      "execution_count": 0,
      "outputs": [
        {
          "output_type": "execute_result",
          "data": {
            "text/html": [
              "<div>\n",
              "<style scoped>\n",
              "    .dataframe tbody tr th:only-of-type {\n",
              "        vertical-align: middle;\n",
              "    }\n",
              "\n",
              "    .dataframe tbody tr th {\n",
              "        vertical-align: top;\n",
              "    }\n",
              "\n",
              "    .dataframe thead th {\n",
              "        text-align: right;\n",
              "    }\n",
              "</style>\n",
              "<table border=\"1\" class=\"dataframe\">\n",
              "  <thead>\n",
              "    <tr style=\"text-align: right;\">\n",
              "      <th></th>\n",
              "      <th></th>\n",
              "      <th>Cars</th>\n",
              "      <th>Bluecar counter</th>\n",
              "      <th>Utilib counter</th>\n",
              "      <th>Utilib 1.4 counter</th>\n",
              "      <th>Charge Slots</th>\n",
              "      <th>Postal code</th>\n",
              "      <th>Slots</th>\n",
              "    </tr>\n",
              "    <tr>\n",
              "      <th>ID</th>\n",
              "      <th>Date-Time</th>\n",
              "      <th></th>\n",
              "      <th></th>\n",
              "      <th></th>\n",
              "      <th></th>\n",
              "      <th></th>\n",
              "      <th></th>\n",
              "      <th></th>\n",
              "    </tr>\n",
              "  </thead>\n",
              "  <tbody>\n",
              "    <tr>\n",
              "      <th rowspan=\"2\" valign=\"top\">paris-25aout1944-8</th>\n",
              "      <th>2018-04-02 07:37:00</th>\n",
              "      <td>4</td>\n",
              "      <td>4</td>\n",
              "      <td>0</td>\n",
              "      <td>0</td>\n",
              "      <td>0</td>\n",
              "      <td>75014</td>\n",
              "      <td>0</td>\n",
              "    </tr>\n",
              "    <tr>\n",
              "      <th>2018-04-02 12:49:00</th>\n",
              "      <td>2</td>\n",
              "      <td>2</td>\n",
              "      <td>0</td>\n",
              "      <td>0</td>\n",
              "      <td>0</td>\n",
              "      <td>75014</td>\n",
              "      <td>1</td>\n",
              "    </tr>\n",
              "    <tr>\n",
              "      <th>paris-adolphemax-6</th>\n",
              "      <th>2018-04-02 11:01:00</th>\n",
              "      <td>4</td>\n",
              "      <td>4</td>\n",
              "      <td>0</td>\n",
              "      <td>0</td>\n",
              "      <td>0</td>\n",
              "      <td>75009</td>\n",
              "      <td>0</td>\n",
              "    </tr>\n",
              "    <tr>\n",
              "      <th>paris-adolphemille-8</th>\n",
              "      <th>2018-04-03 12:25:00</th>\n",
              "      <td>2</td>\n",
              "      <td>2</td>\n",
              "      <td>0</td>\n",
              "      <td>0</td>\n",
              "      <td>0</td>\n",
              "      <td>75019</td>\n",
              "      <td>1</td>\n",
              "    </tr>\n",
              "    <tr>\n",
              "      <th>paris-alesia-33</th>\n",
              "      <th>2018-04-07 07:43:00</th>\n",
              "      <td>5</td>\n",
              "      <td>5</td>\n",
              "      <td>0</td>\n",
              "      <td>0</td>\n",
              "      <td>0</td>\n",
              "      <td>75014</td>\n",
              "      <td>1</td>\n",
              "    </tr>\n",
              "  </tbody>\n",
              "</table>\n",
              "</div>"
            ],
            "text/plain": [
              "                                          Cars  ...  Slots\n",
              "ID                   Date-Time                  ...       \n",
              "paris-25aout1944-8   2018-04-02 07:37:00     4  ...      0\n",
              "                     2018-04-02 12:49:00     2  ...      1\n",
              "paris-adolphemax-6   2018-04-02 11:01:00     4  ...      0\n",
              "paris-adolphemille-8 2018-04-03 12:25:00     2  ...      1\n",
              "paris-alesia-33      2018-04-07 07:43:00     5  ...      1\n",
              "\n",
              "[5 rows x 7 columns]"
            ]
          },
          "metadata": {
            "tags": []
          },
          "execution_count": 36
        }
      ]
    },
    {
      "cell_type": "code",
      "metadata": {
        "colab_type": "code",
        "id": "9DaTnoxFakTV",
        "colab": {}
      },
      "source": [
        "# A new column called diff is created.It helps us identify when a cars left and arrived\n",
        "# at a station. positive numbers show a car left a station. Negative numbers\n",
        "# show a car arrived at a station. Null values show no activity at a station\n",
        "# The diff values are then converted to absoluted values for easier computation.\n",
        "X1['diff'] = X1.groupby(['ID'])['Bluecar counter'].apply(lambda x:  x.shift(1) - x)\n",
        "X1['diff'] = X1['diff'].abs()\n",
        "X1['diff']\n",
        "X1.head(10)"
      ],
      "execution_count": 0,
      "outputs": []
    },
    {
      "cell_type": "code",
      "metadata": {
        "id": "CLzMyI-WZ_rC",
        "colab_type": "code",
        "colab": {}
      },
      "source": [
        "# Null values are dropped.\n",
        "# station adress is grouped with mean of the differences column.\n",
        "# This gives average activity per station which is stored in a list\n",
        "\n",
        "X1['diff'].isnull().sum()\n",
        "X2=X1.dropna()\n",
        "X2\n",
        "X3=list(X2.groupby('ID')['diff'].mean())"
      ],
      "execution_count": 0,
      "outputs": []
    },
    {
      "cell_type": "code",
      "metadata": {
        "id": "yp5lcPnGBvgq",
        "colab_type": "code",
        "colab": {}
      },
      "source": [
        "# From the list created above we selected a sample of 29 random data points\n",
        "import random\n",
        "X4=random.sample(X3, k=29)"
      ],
      "execution_count": 0,
      "outputs": []
    },
    {
      "cell_type": "markdown",
      "metadata": {
        "id": "Ut7Y5BpUKQ5S",
        "colab_type": "text"
      },
      "source": [
        "Data selected.\n",
        "\n",
        "X4= [2.0, 1.0, 0.0, 2.0, 2.0, 1.0, 1.0, 0.0, 3.0, 1.0, 2.0, 0.5, 1.0, 1.0, 1.0, 1.0, 2.0, 0.0, 0.0, 2.0, 0.5, 2.0, 1.0, 1.0, 1.0, 0.0, 3.0, 2.0, 1.0]"
      ]
    },
    {
      "cell_type": "markdown",
      "metadata": {
        "id": "jnKmtDq7VToH",
        "colab_type": "text"
      },
      "source": [
        "AFTERNOON DATA"
      ]
    },
    {
      "cell_type": "code",
      "metadata": {
        "id": "i1Uc13u_VWQp",
        "colab_type": "code",
        "outputId": "aeae6f04-512a-4e85-e881-ebe01f52c4dc",
        "colab": {
          "base_uri": "https://localhost:8080/",
          "height": 425
        }
      },
      "source": [
        "#Here we obtain a subset of data where hours are between 12 and 18\n",
        "Y=dfp[(dfp['Date-Time'].dt.hour>11) & (dfp['Date-Time'].dt.hour<19)]\n",
        "Y.head()"
      ],
      "execution_count": 0,
      "outputs": [
        {
          "output_type": "execute_result",
          "data": {
            "text/html": [
              "<div>\n",
              "<style scoped>\n",
              "    .dataframe tbody tr th:only-of-type {\n",
              "        vertical-align: middle;\n",
              "    }\n",
              "\n",
              "    .dataframe tbody tr th {\n",
              "        vertical-align: top;\n",
              "    }\n",
              "\n",
              "    .dataframe thead th {\n",
              "        text-align: right;\n",
              "    }\n",
              "</style>\n",
              "<table border=\"1\" class=\"dataframe\">\n",
              "  <thead>\n",
              "    <tr style=\"text-align: right;\">\n",
              "      <th></th>\n",
              "      <th>Address</th>\n",
              "      <th>Cars</th>\n",
              "      <th>Bluecar counter</th>\n",
              "      <th>Utilib counter</th>\n",
              "      <th>Utilib 1.4 counter</th>\n",
              "      <th>Charge Slots</th>\n",
              "      <th>Charging Status</th>\n",
              "      <th>City</th>\n",
              "      <th>ID</th>\n",
              "      <th>Kind</th>\n",
              "      <th>Geo point</th>\n",
              "      <th>Postal code</th>\n",
              "      <th>Public name</th>\n",
              "      <th>Rental status</th>\n",
              "      <th>Slots</th>\n",
              "      <th>Station type</th>\n",
              "      <th>Status</th>\n",
              "      <th>Subscription status</th>\n",
              "      <th>Date-Time</th>\n",
              "    </tr>\n",
              "  </thead>\n",
              "  <tbody>\n",
              "    <tr>\n",
              "      <th>4</th>\n",
              "      <td>6 avenue de la Porte de Champerret</td>\n",
              "      <td>3</td>\n",
              "      <td>3</td>\n",
              "      <td>0</td>\n",
              "      <td>0</td>\n",
              "      <td>0</td>\n",
              "      <td>nonexistent</td>\n",
              "      <td>Paris</td>\n",
              "      <td>paris-portedechamperret-6</td>\n",
              "      <td>PARKING</td>\n",
              "      <td>48.8862632, 2.2874511</td>\n",
              "      <td>75017</td>\n",
              "      <td>Paris/Porte de Champerret/6</td>\n",
              "      <td>operational</td>\n",
              "      <td>3</td>\n",
              "      <td>station</td>\n",
              "      <td>ok</td>\n",
              "      <td>nonexistent</td>\n",
              "      <td>2018-04-08 17:23:00</td>\n",
              "    </tr>\n",
              "    <tr>\n",
              "      <th>9</th>\n",
              "      <td>41 boulevard de Rochechouart</td>\n",
              "      <td>6</td>\n",
              "      <td>6</td>\n",
              "      <td>0</td>\n",
              "      <td>0</td>\n",
              "      <td>0</td>\n",
              "      <td>nonexistent</td>\n",
              "      <td>Paris</td>\n",
              "      <td>paris-anvers-parking</td>\n",
              "      <td>PARKING</td>\n",
              "      <td>48.88267, 2.34405</td>\n",
              "      <td>75009</td>\n",
              "      <td>Paris/Anvers/Parking</td>\n",
              "      <td>operational</td>\n",
              "      <td>0</td>\n",
              "      <td>station</td>\n",
              "      <td>ok</td>\n",
              "      <td>nonexistent</td>\n",
              "      <td>2018-04-04 15:02:00</td>\n",
              "    </tr>\n",
              "    <tr>\n",
              "      <th>17</th>\n",
              "      <td>182 Boulevard Voltaire</td>\n",
              "      <td>6</td>\n",
              "      <td>6</td>\n",
              "      <td>0</td>\n",
              "      <td>0</td>\n",
              "      <td>0</td>\n",
              "      <td>operational</td>\n",
              "      <td>Paris</td>\n",
              "      <td>paris-voltaire-182</td>\n",
              "      <td>STATION</td>\n",
              "      <td>48.8548, 2.385047</td>\n",
              "      <td>75011</td>\n",
              "      <td>Paris/Voltaire/182</td>\n",
              "      <td>operational</td>\n",
              "      <td>0</td>\n",
              "      <td>station</td>\n",
              "      <td>ok</td>\n",
              "      <td>nonexistent</td>\n",
              "      <td>2018-04-09 12:14:00</td>\n",
              "    </tr>\n",
              "    <tr>\n",
              "      <th>40</th>\n",
              "      <td>70 Boulevard de Clichy</td>\n",
              "      <td>2</td>\n",
              "      <td>2</td>\n",
              "      <td>0</td>\n",
              "      <td>0</td>\n",
              "      <td>0</td>\n",
              "      <td>operational</td>\n",
              "      <td>Paris</td>\n",
              "      <td>paris-clichy-70</td>\n",
              "      <td>STATION</td>\n",
              "      <td>48.8836276, 2.3339857</td>\n",
              "      <td>75018</td>\n",
              "      <td>Paris/Clichy/70</td>\n",
              "      <td>operational</td>\n",
              "      <td>1</td>\n",
              "      <td>station</td>\n",
              "      <td>ok</td>\n",
              "      <td>nonexistent</td>\n",
              "      <td>2018-04-03 16:24:00</td>\n",
              "    </tr>\n",
              "    <tr>\n",
              "      <th>45</th>\n",
              "      <td>42 bis avenue Georges Mandel</td>\n",
              "      <td>5</td>\n",
              "      <td>5</td>\n",
              "      <td>0</td>\n",
              "      <td>0</td>\n",
              "      <td>0</td>\n",
              "      <td>operational</td>\n",
              "      <td>Paris</td>\n",
              "      <td>paris-georgesmandel-42</td>\n",
              "      <td>STATION</td>\n",
              "      <td>48.8639536, 2.2806137</td>\n",
              "      <td>75016</td>\n",
              "      <td>Paris/Georges Mandel/42</td>\n",
              "      <td>operational</td>\n",
              "      <td>1</td>\n",
              "      <td>station</td>\n",
              "      <td>ok</td>\n",
              "      <td>nonexistent</td>\n",
              "      <td>2018-04-06 18:25:00</td>\n",
              "    </tr>\n",
              "  </tbody>\n",
              "</table>\n",
              "</div>"
            ],
            "text/plain": [
              "                               Address  ...           Date-Time\n",
              "4   6 avenue de la Porte de Champerret  ... 2018-04-08 17:23:00\n",
              "9         41 boulevard de Rochechouart  ... 2018-04-04 15:02:00\n",
              "17              182 Boulevard Voltaire  ... 2018-04-09 12:14:00\n",
              "40              70 Boulevard de Clichy  ... 2018-04-03 16:24:00\n",
              "45        42 bis avenue Georges Mandel  ... 2018-04-06 18:25:00\n",
              "\n",
              "[5 rows x 19 columns]"
            ]
          },
          "metadata": {
            "tags": []
          },
          "execution_count": 79
        }
      ]
    },
    {
      "cell_type": "code",
      "metadata": {
        "id": "Qunbn0ZhVkwC",
        "colab_type": "code",
        "outputId": "6f8ee22c-c7bc-4f9a-e0b0-9f2decf08d68",
        "colab": {
          "base_uri": "https://localhost:8080/",
          "height": 366
        }
      },
      "source": [
        "# We sort values by station ID and date time, so it is clear how cars arrived \n",
        "# and left a particlar station\n",
        "Y1=Y.sort_values('Date-Time').groupby(['ID','Date-Time']).sum()\n",
        "Y1.head()"
      ],
      "execution_count": 0,
      "outputs": [
        {
          "output_type": "execute_result",
          "data": {
            "text/html": [
              "<div>\n",
              "<style scoped>\n",
              "    .dataframe tbody tr th:only-of-type {\n",
              "        vertical-align: middle;\n",
              "    }\n",
              "\n",
              "    .dataframe tbody tr th {\n",
              "        vertical-align: top;\n",
              "    }\n",
              "\n",
              "    .dataframe thead th {\n",
              "        text-align: right;\n",
              "    }\n",
              "</style>\n",
              "<table border=\"1\" class=\"dataframe\">\n",
              "  <thead>\n",
              "    <tr style=\"text-align: right;\">\n",
              "      <th></th>\n",
              "      <th></th>\n",
              "      <th>Cars</th>\n",
              "      <th>Bluecar counter</th>\n",
              "      <th>Utilib counter</th>\n",
              "      <th>Utilib 1.4 counter</th>\n",
              "      <th>Charge Slots</th>\n",
              "      <th>Postal code</th>\n",
              "      <th>Slots</th>\n",
              "    </tr>\n",
              "    <tr>\n",
              "      <th>ID</th>\n",
              "      <th>Date-Time</th>\n",
              "      <th></th>\n",
              "      <th></th>\n",
              "      <th></th>\n",
              "      <th></th>\n",
              "      <th></th>\n",
              "      <th></th>\n",
              "      <th></th>\n",
              "    </tr>\n",
              "  </thead>\n",
              "  <tbody>\n",
              "    <tr>\n",
              "      <th rowspan=\"3\" valign=\"top\">paris-25aout1944-8</th>\n",
              "      <th>2018-04-01 18:40:00</th>\n",
              "      <td>1</td>\n",
              "      <td>1</td>\n",
              "      <td>0</td>\n",
              "      <td>0</td>\n",
              "      <td>0</td>\n",
              "      <td>75014</td>\n",
              "      <td>2</td>\n",
              "    </tr>\n",
              "    <tr>\n",
              "      <th>2018-04-02 12:49:00</th>\n",
              "      <td>2</td>\n",
              "      <td>2</td>\n",
              "      <td>0</td>\n",
              "      <td>0</td>\n",
              "      <td>0</td>\n",
              "      <td>75014</td>\n",
              "      <td>1</td>\n",
              "    </tr>\n",
              "    <tr>\n",
              "      <th>2018-04-04 18:48:00</th>\n",
              "      <td>1</td>\n",
              "      <td>1</td>\n",
              "      <td>0</td>\n",
              "      <td>0</td>\n",
              "      <td>0</td>\n",
              "      <td>75014</td>\n",
              "      <td>1</td>\n",
              "    </tr>\n",
              "    <tr>\n",
              "      <th>paris-adolphemille-8</th>\n",
              "      <th>2018-04-03 12:25:00</th>\n",
              "      <td>2</td>\n",
              "      <td>2</td>\n",
              "      <td>0</td>\n",
              "      <td>0</td>\n",
              "      <td>0</td>\n",
              "      <td>75019</td>\n",
              "      <td>1</td>\n",
              "    </tr>\n",
              "    <tr>\n",
              "      <th>paris-adolpheyvon-6</th>\n",
              "      <th>2018-04-02 14:15:00</th>\n",
              "      <td>5</td>\n",
              "      <td>5</td>\n",
              "      <td>0</td>\n",
              "      <td>0</td>\n",
              "      <td>0</td>\n",
              "      <td>75016</td>\n",
              "      <td>0</td>\n",
              "    </tr>\n",
              "  </tbody>\n",
              "</table>\n",
              "</div>"
            ],
            "text/plain": [
              "                                          Cars  ...  Slots\n",
              "ID                   Date-Time                  ...       \n",
              "paris-25aout1944-8   2018-04-01 18:40:00     1  ...      2\n",
              "                     2018-04-02 12:49:00     2  ...      1\n",
              "                     2018-04-04 18:48:00     1  ...      1\n",
              "paris-adolphemille-8 2018-04-03 12:25:00     2  ...      1\n",
              "paris-adolpheyvon-6  2018-04-02 14:15:00     5  ...      0\n",
              "\n",
              "[5 rows x 7 columns]"
            ]
          },
          "metadata": {
            "tags": []
          },
          "execution_count": 80
        }
      ]
    },
    {
      "cell_type": "code",
      "metadata": {
        "id": "jZ4fwrvwVtFR",
        "colab_type": "code",
        "colab": {}
      },
      "source": [
        "# A new column called diff is created.It helps us identify when a cars left and arrived\n",
        "# at a station. positive numbers show a car left a station. Negative numbers\n",
        "# show a car arrived at a station. Null values show no activity at a station\n",
        "# The diff values are then converted to absoluted values for easier computation.\n",
        "Y1['diff'] = Y1.groupby(['ID'])['Bluecar counter'].apply(lambda x:  x.shift(1) - x)\n",
        "Y1['diff']=Y1['diff'].abs()\n",
        "Y1['diff']\n",
        "Y1.head(10)\n"
      ],
      "execution_count": 0,
      "outputs": []
    },
    {
      "cell_type": "code",
      "metadata": {
        "id": "1tyguFMKb8gI",
        "colab_type": "code",
        "colab": {}
      },
      "source": [
        "# Null values are dropped.\n",
        "# station adress is grouped with mean of the differences column.\n",
        "# This gives average activity per station which is stored in a list\n",
        "Y1['diff'].isnull().sum()\n",
        "Y2=Y1.dropna()\n",
        "Y2.head()\n",
        "Y3=list(Y2.groupby('ID')['diff'].mean())"
      ],
      "execution_count": 0,
      "outputs": []
    },
    {
      "cell_type": "code",
      "metadata": {
        "id": "zsEpjDsYcJEE",
        "colab_type": "code",
        "colab": {}
      },
      "source": [
        "# From the list created above we selected a sample of 29 random data points\n",
        "import random\n",
        "Y4=random.sample(Y3, k=29)"
      ],
      "execution_count": 0,
      "outputs": []
    },
    {
      "cell_type": "markdown",
      "metadata": {
        "id": "33f5hfFgJPqV",
        "colab_type": "text"
      },
      "source": [
        "Data selected.\n",
        "\n",
        "Y4= [1.3333333333333333,\n",
        " 2.0,\n",
        " 0.0,\n",
        " 2.5,\n",
        " 4.0,\n",
        " 1.0,\n",
        " 4.0,\n",
        " 2.0,\n",
        " 1.0,\n",
        " 1.0,\n",
        " 1.0,\n",
        " 1.0,\n",
        " 1.0,\n",
        " 3.0,\n",
        " 0.0,\n",
        " 1.0,\n",
        " 2.0,\n",
        " 1.0,\n",
        " 1.0,\n",
        " 0.0,\n",
        " 2.0,\n",
        " 1.0,\n",
        " 1.0,\n",
        " 0.0,\n",
        " 3.0,\n",
        " 3.0,\n",
        " 1.0,\n",
        " 1.0,\n",
        " 0.0]"
      ]
    },
    {
      "cell_type": "markdown",
      "metadata": {
        "id": "DiYL_85wkpVV",
        "colab_type": "text"
      },
      "source": [
        "## **Hypothesis Testing Computation**"
      ]
    },
    {
      "cell_type": "markdown",
      "metadata": {
        "id": "4Mebe3zLXWx3",
        "colab_type": "text"
      },
      "source": [
        "*checking assumptions*"
      ]
    },
    {
      "cell_type": "markdown",
      "metadata": {
        "id": "rBngWsZYlFqG",
        "colab_type": "text"
      },
      "source": [
        "The population variance is unknown and sample picked is less than 30. We also check for assumption of normality.If all is satified the T-test can be used."
      ]
    },
    {
      "cell_type": "code",
      "metadata": {
        "id": "xfo5_0jTV8c1",
        "colab_type": "code",
        "outputId": "fcac9463-cfce-42ce-af2c-b606201e070b",
        "colab": {
          "base_uri": "https://localhost:8080/",
          "height": 319
        }
      },
      "source": [
        "#Plotting histogram to check for normality.\n",
        "import matplotlib.pyplot as plt\n",
        "plt.hist(X4, bins=4)\n"
      ],
      "execution_count": 0,
      "outputs": [
        {
          "output_type": "execute_result",
          "data": {
            "text/plain": [
              "(array([ 7., 12.,  8.,  2.]),\n",
              " array([0.  , 0.75, 1.5 , 2.25, 3.  ]),\n",
              " <a list of 4 Patch objects>)"
            ]
          },
          "metadata": {
            "tags": []
          },
          "execution_count": 86
        },
        {
          "output_type": "display_data",
          "data": {
            "image/png": "[encoded data removed]",
            "text/plain": [
              "<Figure size 432x288 with 1 Axes>"
            ]
          },
          "metadata": {
            "tags": []
          }
        }
      ]
    },
    {
      "cell_type": "code",
      "metadata": {
        "id": "ok5-TjYKns11",
        "colab_type": "code",
        "outputId": "2c6f9ab3-7082-4890-f316-627d9abb5445",
        "colab": {
          "base_uri": "https://localhost:8080/",
          "height": 319
        }
      },
      "source": [
        "#Plotting histogram to check for normality\n",
        "import matplotlib.pyplot as plt\n",
        "plt.hist(Y4, bins=4)\n"
      ],
      "execution_count": 0,
      "outputs": [
        {
          "output_type": "execute_result",
          "data": {
            "text/plain": [
              "(array([ 5., 14.,  5.,  5.]),\n",
              " array([0., 1., 2., 3., 4.]),\n",
              " <a list of 4 Patch objects>)"
            ]
          },
          "metadata": {
            "tags": []
          },
          "execution_count": 88
        },
        {
          "output_type": "display_data",
          "data": {
            "image/png": "[encoded data removed]",
            "text/plain": [
              "<Figure size 432x288 with 1 Axes>"
            ]
          },
          "metadata": {
            "tags": []
          }
        }
      ]
    },
    {
      "cell_type": "markdown",
      "metadata": {
        "id": "ZnB3EAGRCo7y",
        "colab_type": "text"
      },
      "source": [
        "Assumption of normality is also satified"
      ]
    },
    {
      "cell_type": "markdown",
      "metadata": {
        "id": "JC5uI5KkXkdD",
        "colab_type": "text"
      },
      "source": [
        "## **Setting a level of significance.**\n",
        "\n"
      ]
    },
    {
      "cell_type": "markdown",
      "metadata": {
        "id": "tYiisIpUXwO7",
        "colab_type": "text"
      },
      "source": [
        "level choosen in this research is 0.05. Research allows a 5% error This means there is a 5% risk that we will be rejecting null when its true."
      ]
    },
    {
      "cell_type": "markdown",
      "metadata": {
        "id": "gXKnJtBeMfSA",
        "colab_type": "text"
      },
      "source": [
        "## **Computing the t-test statistic**"
      ]
    },
    {
      "cell_type": "code",
      "metadata": {
        "id": "v5W-CulSMnbv",
        "colab_type": "code",
        "colab": {}
      },
      "source": [
        "# calculate means\n",
        "from statistics import mean\n",
        "mean1, mean2 = mean(X4),mean(Y4)"
      ],
      "execution_count": 0,
      "outputs": []
    },
    {
      "cell_type": "code",
      "metadata": {
        "id": "l8QKKq1ONG_M",
        "colab_type": "code",
        "colab": {}
      },
      "source": [
        "# calculate sample standard deviations\n",
        "import numpy as np\n",
        "from statistics import stdev\n",
        "std1, std2 = np.std(X4, ddof=1), np.std(Y4, ddof=1)"
      ],
      "execution_count": 0,
      "outputs": []
    },
    {
      "cell_type": "code",
      "metadata": {
        "id": "6TEaCq0jM7Wf",
        "colab_type": "code",
        "colab": {}
      },
      "source": [
        "# calculate standard errors\n",
        "import math\n",
        "n1, n2 = len(X4), len(Y4)\n",
        "se1, se2 = std1/math.sqrt(n1), std2/math.sqrt(n2)"
      ],
      "execution_count": 0,
      "outputs": []
    },
    {
      "cell_type": "code",
      "metadata": {
        "id": "ROsA5Fx_NMWa",
        "colab_type": "code",
        "colab": {}
      },
      "source": [
        "# standard error on the difference between the samples\n",
        "sed = math.sqrt(se1**2.0 + se2**2.0)"
      ],
      "execution_count": 0,
      "outputs": []
    },
    {
      "cell_type": "code",
      "metadata": {
        "id": "xWTgIvVoNb7y",
        "colab_type": "code",
        "outputId": "d3a2eb84-f2d3-41c3-f0a2-aec1d6796e28",
        "colab": {
          "base_uri": "https://localhost:8080/",
          "height": 35
        }
      },
      "source": [
        "# calculate the t statistic\n",
        "t_stat = (mean1 - mean2) / sed\n",
        "t_stat"
      ],
      "execution_count": 0,
      "outputs": [
        {
          "output_type": "execute_result",
          "data": {
            "text/plain": [
              "-0.897736767500627"
            ]
          },
          "metadata": {
            "tags": []
          },
          "execution_count": 103
        }
      ]
    },
    {
      "cell_type": "markdown",
      "metadata": {
        "id": "D5xhOqSYRb6C",
        "colab_type": "text"
      },
      "source": [
        "## **Calculating the P-Value**"
      ]
    },
    {
      "cell_type": "code",
      "metadata": {
        "id": "7DtDxRjrRiUy",
        "colab_type": "code",
        "outputId": "785dfb75-3c9e-4212-9a05-aa792a24425d",
        "colab": {
          "base_uri": "https://localhost:8080/",
          "height": 35
        }
      },
      "source": [
        "# compare samples\n",
        "#We calculate the t-test and P-value using the built in SciPy function ttest_ind().\n",
        "\n",
        "from scipy.stats import ttest_ind\n",
        "stat, p = ttest_ind(X4, Y4)\n",
        "print('t=%.3f, p=%.3f' % (stat, p))"
      ],
      "execution_count": 0,
      "outputs": [
        {
          "output_type": "stream",
          "text": [
            "t=-0.898, p=0.373\n"
          ],
          "name": "stdout"
        }
      ]
    },
    {
      "cell_type": "markdown",
      "metadata": {
        "id": "fudfdgDfUN8s",
        "colab_type": "text"
      },
      "source": [
        "## **Hypothesis testing interpretation**\n"
      ]
    },
    {
      "cell_type": "markdown",
      "metadata": {
        "id": "6JWV0gB3YGic",
        "colab_type": "text"
      },
      "source": [
        "The null hypothesis is rejected when: \n",
        "\n",
        "P-Value < alpha.\n",
        "In the research the P-Value is greater than the alpha level i.e. 0.373 > 0.05.\n",
        "In this case we fail to reject the null hypothesis and conclude that:\n",
        "\n",
        "The average blue car activity per station in paris is no greater in the morning hours(6-12) than in the afternoon hours(12-18)\n"
      ]
    }
  ]
}